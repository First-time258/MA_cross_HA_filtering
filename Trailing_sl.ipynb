{
 "cells": [
  {
   "cell_type": "code",
   "execution_count": 2,
   "id": "3fc4c63a-f6da-49a9-875c-bef41768c179",
   "metadata": {},
   "outputs": [],
   "source": [
    "import pandas as pd\n",
    "import numpy as np\n",
    "import pandas_ta as ta\n",
    "from tqdm import tqdm\n",
    "import matplotlib.pyplot as plt\n",
    "import warnings \n",
    "warnings.filterwarnings('ignore')\n"
   ]
  },
  {
   "cell_type": "code",
   "execution_count": 22,
   "id": "6b41a6e8-5ca4-4ea4-90e9-4a057cfccc08",
   "metadata": {},
   "outputs": [
    {
     "name": "stderr",
     "output_type": "stream",
     "text": [
      "100%|██████████| 956734/956734 [00:27<00:00, 34709.68it/s]\n",
      "100%|██████████| 956734/956734 [00:25<00:00, 37939.80it/s]\n"
     ]
    },
    {
     "name": "stdout",
     "output_type": "stream",
     "text": [
      "Net PnL: 14765.208215050283\n"
     ]
    }
   ],
   "source": [
    "class PnlCalulator:\n",
    "    def __init__(self,target):\n",
    "        self.intrade_long = False\n",
    "        self.intrade_short = False\n",
    "        self.sl = 0\n",
    "        self.entry_price = 0\n",
    "        self.multiplier = target\n",
    "        self.atr = 0\n",
    "    \n",
    "    def Crossover(self):\n",
    "\n",
    "        df = pd.read_csv('btc_3m_2019-24.csv')\n",
    "        #df = df.rename(columns ={\"signal\":\"signals\",\"datetime\":\"timestamp\"})\n",
    "        df['ATR'] = ta.atr(df.high, df.low, df.close, window=14)\n",
    "        df['target_points'] = None\n",
    "        df['remarks'] = 'Algo_Exit'\n",
    "\n",
    "        df['HA_Close'] = (df['open'] + df['high'] + df['low'] + df['close']) / 4\n",
    "        df['HA_Open'] = (df['open'] + df['close']) / 2\n",
    "        df['HA_Open'] = df['HA_Open'].shift(1)  # Shift to use previous period's values\n",
    "        df['HA_Open'].iloc[0] = df['open'].iloc[0]  # First HA Open is the same as the first original open\n",
    "        df['HA_High'] = df[['HA_Open', 'HA_Close']].join(df['high']).max(axis=1)\n",
    "        df['HA_Low'] = df[['HA_Open', 'HA_Close']].join(df['low']).min(axis=1)\n",
    "\n",
    "        df[\"Short_MA\"] = df[\"close\"].rolling(window=1).mean()\n",
    "        df[\"Long_MA\"] = df[\"close\"].rolling(window=1259).mean()\n",
    "        df[\"sma_long_minus_short\"] = df[\"Long_MA\"] - df[\"Short_MA\"]\n",
    "        df['region'] = df['sma_long_minus_short'].apply(lambda x: 'Short_Region' if x > 0 else 'Long_Region')\n",
    "        df['mask_1'] = (df['region'] == 'Long_Region') & (df['region'].shift(1) == 'Short_Region')\n",
    "        df['mask_2'] = (df['region'] == 'Short_Region') & (df['region'].shift(1) == 'Long_Region')\n",
    "        df['crossover_detection'] = df.apply(lambda row: True if row['mask_1'] else False if row['mask_2'] else row['region'], axis=1)\n",
    "        df['signal'] = df['crossover_detection'].apply(lambda x: 1 if x == True else 2 if x == False else 0)\n",
    "\n",
    "        in_trade_long, in_trade_short = False, False\n",
    "        for i in tqdm(range(len(df))):\n",
    "            if df['signal'].iloc[i] == 2 and in_trade_long:\n",
    "                df.at[i-1,'signal'] = -1\n",
    "                in_trade_long = False\n",
    "                in_trade_short = True\n",
    "            elif df['signal'].iloc[i] == 1 and in_trade_short:\n",
    "                df.at[i-1,'signal'] = -2\n",
    "                in_trade_long = True\n",
    "                in_trade_short = False\n",
    "            elif df['signal'].iloc[i] == 2 and not in_trade_short:\n",
    "                in_trade_short = True\n",
    "            elif df['signal'].iloc[i] == 1 and not in_trade_long:\n",
    "                in_trade_long = True\n",
    "            \n",
    "        \n",
    "        target_points = 0\n",
    "        entry_price = 0\n",
    "        sl = 0\n",
    "        tp = 0\n",
    "        \n",
    "        for i in tqdm(range(len(df))):\n",
    "            if df['signal'].iloc[i] == 1:\n",
    "                entry_price = df['close'].iloc[i]\n",
    "                df.at[i, 'target_points'] = self.multiplier * df['ATR'].iloc[i]\n",
    "                target_points = df['target_points'].iloc[i]\n",
    "                sl = df['close'].iloc[i] - df['target_points'].iloc[i]\n",
    "                intrade = True\n",
    "                \n",
    "                \n",
    "            elif df['signal'].iloc[i] == 2:\n",
    "                entry_price = df['close'].iloc[i]\n",
    "                df.at[i, 'target_points'] = 11 * df['ATR'].iloc[i]\n",
    "                target_points = df['target_points'].iloc[i]\n",
    "                sl = df['close'].iloc[i] + df['target_points'].iloc[i]\n",
    "                intrade = True\n",
    "                k = i\n",
    "                mul = 1\n",
    "                while k < len(df) and df['signal'].iloc[k] != -2 and intrade:\n",
    "                    if df['close'].iloc[k] < entry_price-(0.02)*mul*entry_price:\n",
    "                        new_sl = entry_price - (0.009) *mul* entry_price\n",
    "                        if new_sl < sl:\n",
    "                            sl = new_sl\n",
    "                        mul = mul+1\n",
    "                    elif df['low'].iloc[k] < sl < df['high'].iloc[k]:\n",
    "                        df.at[k, 'signal'] = -2\n",
    "                        df.at[k, 'remarks'] = \"SL_Exit\"\n",
    "                        intrade = False\n",
    "                    k += 1\n",
    "\n",
    "\n",
    "        d = df[df['signal'] != 0]\n",
    "\n",
    "        # filtering out repetitive signals\n",
    "        signal = []\n",
    "        prev = None\n",
    "        for value in d[\"signal\"]:\n",
    "            if value == prev:\n",
    "                signal.append(0)\n",
    "            else:\n",
    "                signal.append(value)\n",
    "                prev = value\n",
    "\n",
    "        d[\"signal\"] = signal\n",
    "        dg = d[d['signal']!=0]\n",
    "\n",
    "        # creation of PnL file from logs \n",
    "        dg['entry_timestamp']= dg['timestamp'] \n",
    "        dg['entry_price']= dg['close']\n",
    "        dg['exit_timestamp']= dg['timestamp'].shift(-1)\n",
    "        dg['exit_price']= dg['close'].shift(-1)\n",
    "        dg['remarks']= dg['remarks'].shift(-1)\n",
    "        pnl= dg[dg['signal']>0][['entry_timestamp', 'entry_price', 'exit_timestamp', 'exit_price', 'signal','target_points','remarks']]\n",
    "\n",
    "        #calculatig the Overall PnL\n",
    "        pnl['profit_per_btc'] = np.where(pnl['signal'] == 1, pnl['exit_price'] - pnl['entry_price'], \n",
    "                                        np.where(pnl['signal'] == 2, pnl['entry_price'] - pnl['exit_price'], None)) \n",
    "        pnl['capital']= 1000\n",
    "        pnl['#units']= pnl['capital']/pnl['entry_price']\n",
    "        pnl['profit_per_capital']= pnl['#units']*pnl['profit_per_btc']\n",
    "        pnl['tnc_cost']= 1\n",
    "        pnl['profit_after_tnc']= pnl['profit_per_capital']- pnl['tnc_cost']\n",
    "        pnl['cumulative_profit']= pnl['profit_after_tnc'].cumsum()\n",
    "        pnl['roe_%']= (pnl['profit_after_tnc']/pnl['capital'])*100\n",
    "        net_pnl = pnl.reset_index()\n",
    "            \n",
    "\n",
    "        return  net_pnl, net_pnl['profit_after_tnc'].sum()\n",
    "\n",
    "if __name__ == \"__main__\":\n",
    "    pnl_calculator = PnlCalulator(target=11)  # Create an instance of PnlCalculator\n",
    "    obj, net_pnl_amount = pnl_calculator.Crossover()\n",
    "    \n",
    "    obj.to_csv('pnl_since_2019.csv', index= False) \n",
    "    print(\"Net PnL:\", net_pnl_amount) \n",
    "            "
   ]
  },
  {
   "cell_type": "code",
   "execution_count": 9,
   "id": "435f88ad-26d9-4da8-898f-08d734c073a1",
   "metadata": {},
   "outputs": [
    {
     "name": "stdout",
     "output_type": "stream",
     "text": [
      "target 23\n"
     ]
    },
    {
     "name": "stderr",
     "output_type": "stream",
     "text": [
      "100%|██████████| 700501/700501 [00:22<00:00, 30895.72it/s]\n"
     ]
    },
    {
     "name": "stdout",
     "output_type": "stream",
     "text": [
      "pnl 2941.2467339886466\n",
      "target 27\n"
     ]
    },
    {
     "name": "stderr",
     "output_type": "stream",
     "text": [
      "100%|██████████| 700501/700501 [00:23<00:00, 29828.90it/s]\n"
     ]
    },
    {
     "name": "stdout",
     "output_type": "stream",
     "text": [
      "pnl 2357.333582814703\n",
      "target 35\n"
     ]
    },
    {
     "name": "stderr",
     "output_type": "stream",
     "text": [
      "100%|██████████| 700501/700501 [00:23<00:00, 29759.32it/s]\n"
     ]
    },
    {
     "name": "stdout",
     "output_type": "stream",
     "text": [
      "pnl 2506.9973904210333\n",
      "target 29\n"
     ]
    },
    {
     "name": "stderr",
     "output_type": "stream",
     "text": [
      "100%|██████████| 700501/700501 [00:23<00:00, 30418.72it/s]\n"
     ]
    },
    {
     "name": "stdout",
     "output_type": "stream",
     "text": [
      "pnl 2423.5785867839495\n",
      "target 47\n"
     ]
    },
    {
     "name": "stderr",
     "output_type": "stream",
     "text": [
      "100%|██████████| 700501/700501 [00:24<00:00, 29177.81it/s]\n"
     ]
    },
    {
     "name": "stdout",
     "output_type": "stream",
     "text": [
      "pnl 2574.1523595280255\n",
      "target 37\n"
     ]
    },
    {
     "name": "stderr",
     "output_type": "stream",
     "text": [
      "100%|██████████| 700501/700501 [00:26<00:00, 26281.25it/s]\n"
     ]
    },
    {
     "name": "stdout",
     "output_type": "stream",
     "text": [
      "pnl 2587.285503629695\n",
      "target 48\n"
     ]
    },
    {
     "name": "stderr",
     "output_type": "stream",
     "text": [
      "100%|██████████| 700501/700501 [00:24<00:00, 28849.10it/s]\n"
     ]
    },
    {
     "name": "stdout",
     "output_type": "stream",
     "text": [
      "pnl 2603.953961349963\n",
      "target 21\n"
     ]
    },
    {
     "name": "stderr",
     "output_type": "stream",
     "text": [
      "100%|██████████| 700501/700501 [00:22<00:00, 30817.37it/s]\n"
     ]
    },
    {
     "name": "stdout",
     "output_type": "stream",
     "text": [
      "pnl 3054.9871137565683\n",
      "target 16\n"
     ]
    },
    {
     "name": "stderr",
     "output_type": "stream",
     "text": [
      "100%|██████████| 700501/700501 [00:20<00:00, 34207.95it/s]\n"
     ]
    },
    {
     "name": "stdout",
     "output_type": "stream",
     "text": [
      "pnl 2685.92607690749\n",
      "target 46\n"
     ]
    },
    {
     "name": "stderr",
     "output_type": "stream",
     "text": [
      "100%|██████████| 700501/700501 [00:22<00:00, 31717.39it/s]\n"
     ]
    },
    {
     "name": "stdout",
     "output_type": "stream",
     "text": [
      "pnl 2630.556903613478\n",
      "target 43\n"
     ]
    },
    {
     "name": "stderr",
     "output_type": "stream",
     "text": [
      "100%|██████████| 700501/700501 [00:24<00:00, 28548.54it/s]\n"
     ]
    },
    {
     "name": "stdout",
     "output_type": "stream",
     "text": [
      "pnl 2680.254469668458\n",
      "target 33\n"
     ]
    },
    {
     "name": "stderr",
     "output_type": "stream",
     "text": [
      "100%|██████████| 700501/700501 [00:25<00:00, 27363.66it/s]\n"
     ]
    },
    {
     "name": "stdout",
     "output_type": "stream",
     "text": [
      "pnl 2536.0032483178156\n",
      "target 35\n"
     ]
    },
    {
     "name": "stderr",
     "output_type": "stream",
     "text": [
      "100%|██████████| 700501/700501 [00:24<00:00, 28727.26it/s]\n"
     ]
    },
    {
     "name": "stdout",
     "output_type": "stream",
     "text": [
      "pnl 2506.9973904210333\n",
      "target 33\n"
     ]
    },
    {
     "name": "stderr",
     "output_type": "stream",
     "text": [
      "100%|██████████| 700501/700501 [00:24<00:00, 28839.07it/s]\n"
     ]
    },
    {
     "name": "stdout",
     "output_type": "stream",
     "text": [
      "pnl 2536.0032483178156\n",
      "target 16\n"
     ]
    },
    {
     "name": "stderr",
     "output_type": "stream",
     "text": [
      "100%|██████████| 700501/700501 [00:23<00:00, 30418.40it/s]\n"
     ]
    },
    {
     "name": "stdout",
     "output_type": "stream",
     "text": [
      "pnl 2685.92607690749\n",
      "target 19\n"
     ]
    },
    {
     "name": "stderr",
     "output_type": "stream",
     "text": [
      "100%|██████████| 700501/700501 [00:22<00:00, 30789.08it/s]\n"
     ]
    },
    {
     "name": "stdout",
     "output_type": "stream",
     "text": [
      "pnl 2754.6846759960313\n",
      "target 36\n"
     ]
    },
    {
     "name": "stderr",
     "output_type": "stream",
     "text": [
      "100%|██████████| 700501/700501 [00:21<00:00, 33127.32it/s]\n"
     ]
    },
    {
     "name": "stdout",
     "output_type": "stream",
     "text": [
      "pnl 2549.4168032859493\n",
      "target 28\n"
     ]
    },
    {
     "name": "stderr",
     "output_type": "stream",
     "text": [
      "100%|██████████| 700501/700501 [00:21<00:00, 33059.64it/s]\n"
     ]
    },
    {
     "name": "stdout",
     "output_type": "stream",
     "text": [
      "pnl 2319.4959736762294\n",
      "target 40\n"
     ]
    },
    {
     "name": "stderr",
     "output_type": "stream",
     "text": [
      "100%|██████████| 700501/700501 [00:23<00:00, 30136.70it/s]\n"
     ]
    },
    {
     "name": "stdout",
     "output_type": "stream",
     "text": [
      "pnl 2732.3027454264984\n",
      "target 25\n"
     ]
    },
    {
     "name": "stderr",
     "output_type": "stream",
     "text": [
      "100%|██████████| 700501/700501 [00:23<00:00, 29893.17it/s]\n"
     ]
    },
    {
     "name": "stdout",
     "output_type": "stream",
     "text": [
      "pnl 2834.7014070586256\n",
      "target 26\n"
     ]
    },
    {
     "name": "stderr",
     "output_type": "stream",
     "text": [
      "100%|██████████| 700501/700501 [00:20<00:00, 33890.50it/s]\n"
     ]
    },
    {
     "name": "stdout",
     "output_type": "stream",
     "text": [
      "pnl 2856.1058015383705\n",
      "target 28\n"
     ]
    },
    {
     "name": "stderr",
     "output_type": "stream",
     "text": [
      "100%|██████████| 700501/700501 [00:20<00:00, 33784.87it/s]\n"
     ]
    },
    {
     "name": "stdout",
     "output_type": "stream",
     "text": [
      "pnl 2319.4959736762294\n",
      "target 29\n"
     ]
    },
    {
     "name": "stderr",
     "output_type": "stream",
     "text": [
      "100%|██████████| 700501/700501 [00:23<00:00, 29804.00it/s]\n"
     ]
    },
    {
     "name": "stdout",
     "output_type": "stream",
     "text": [
      "pnl 2423.5785867839495\n",
      "target 49\n"
     ]
    },
    {
     "name": "stderr",
     "output_type": "stream",
     "text": [
      "100%|██████████| 700501/700501 [00:23<00:00, 29642.98it/s]\n"
     ]
    },
    {
     "name": "stdout",
     "output_type": "stream",
     "text": [
      "pnl 2653.3451140536936\n",
      "target 46\n"
     ]
    },
    {
     "name": "stderr",
     "output_type": "stream",
     "text": [
      "100%|██████████| 700501/700501 [00:24<00:00, 29147.06it/s]\n"
     ]
    },
    {
     "name": "stdout",
     "output_type": "stream",
     "text": [
      "pnl 2630.556903613478\n",
      "target 27\n"
     ]
    },
    {
     "name": "stderr",
     "output_type": "stream",
     "text": [
      "100%|██████████| 700501/700501 [00:23<00:00, 30062.70it/s]\n"
     ]
    },
    {
     "name": "stdout",
     "output_type": "stream",
     "text": [
      "pnl 2357.333582814703\n",
      "target 38\n"
     ]
    },
    {
     "name": "stderr",
     "output_type": "stream",
     "text": [
      "100%|██████████| 700501/700501 [00:22<00:00, 31613.49it/s]\n"
     ]
    },
    {
     "name": "stdout",
     "output_type": "stream",
     "text": [
      "pnl 2642.1110092191752\n",
      "target 29\n"
     ]
    },
    {
     "name": "stderr",
     "output_type": "stream",
     "text": [
      "100%|██████████| 700501/700501 [00:22<00:00, 30724.76it/s]\n"
     ]
    },
    {
     "name": "stdout",
     "output_type": "stream",
     "text": [
      "pnl 2423.5785867839495\n",
      "target 42\n"
     ]
    },
    {
     "name": "stderr",
     "output_type": "stream",
     "text": [
      "100%|██████████| 700501/700501 [00:23<00:00, 30158.95it/s]\n"
     ]
    },
    {
     "name": "stdout",
     "output_type": "stream",
     "text": [
      "pnl 2658.5488200850245\n",
      "target 7\n"
     ]
    },
    {
     "name": "stderr",
     "output_type": "stream",
     "text": [
      "100%|██████████| 700501/700501 [00:19<00:00, 36608.75it/s]\n"
     ]
    },
    {
     "name": "stdout",
     "output_type": "stream",
     "text": [
      "pnl 2564.4775673908252\n",
      "target 44\n"
     ]
    },
    {
     "name": "stderr",
     "output_type": "stream",
     "text": [
      "100%|██████████| 700501/700501 [00:23<00:00, 29229.88it/s]\n"
     ]
    },
    {
     "name": "stdout",
     "output_type": "stream",
     "text": [
      "pnl 2599.4167943061384\n",
      "target 26\n"
     ]
    },
    {
     "name": "stderr",
     "output_type": "stream",
     "text": [
      "100%|██████████| 700501/700501 [00:22<00:00, 30964.62it/s]\n"
     ]
    },
    {
     "name": "stdout",
     "output_type": "stream",
     "text": [
      "pnl 2856.1058015383705\n",
      "target 46\n"
     ]
    },
    {
     "name": "stderr",
     "output_type": "stream",
     "text": [
      "100%|██████████| 700501/700501 [00:24<00:00, 28923.40it/s]\n"
     ]
    },
    {
     "name": "stdout",
     "output_type": "stream",
     "text": [
      "pnl 2630.556903613478\n",
      "target 12\n"
     ]
    },
    {
     "name": "stderr",
     "output_type": "stream",
     "text": [
      "100%|██████████| 700501/700501 [00:20<00:00, 34017.43it/s]\n"
     ]
    },
    {
     "name": "stdout",
     "output_type": "stream",
     "text": [
      "pnl 2542.973264911318\n",
      "target 31\n"
     ]
    },
    {
     "name": "stderr",
     "output_type": "stream",
     "text": [
      "100%|██████████| 700501/700501 [00:23<00:00, 29328.67it/s]\n"
     ]
    },
    {
     "name": "stdout",
     "output_type": "stream",
     "text": [
      "pnl 2396.945691521435\n",
      "target 20\n"
     ]
    },
    {
     "name": "stderr",
     "output_type": "stream",
     "text": [
      "100%|██████████| 700501/700501 [00:24<00:00, 29165.74it/s]\n"
     ]
    },
    {
     "name": "stdout",
     "output_type": "stream",
     "text": [
      "pnl 2884.7212676441363\n",
      "target 20\n"
     ]
    },
    {
     "name": "stderr",
     "output_type": "stream",
     "text": [
      "100%|██████████| 700501/700501 [00:21<00:00, 32551.07it/s]\n"
     ]
    },
    {
     "name": "stdout",
     "output_type": "stream",
     "text": [
      "pnl 2884.7212676441363\n",
      "target 19\n"
     ]
    },
    {
     "name": "stderr",
     "output_type": "stream",
     "text": [
      "100%|██████████| 700501/700501 [00:22<00:00, 31467.99it/s]\n"
     ]
    },
    {
     "name": "stdout",
     "output_type": "stream",
     "text": [
      "pnl 2754.6846759960313\n",
      "target 15\n"
     ]
    },
    {
     "name": "stderr",
     "output_type": "stream",
     "text": [
      "100%|██████████| 700501/700501 [00:21<00:00, 32602.32it/s]\n"
     ]
    },
    {
     "name": "stdout",
     "output_type": "stream",
     "text": [
      "pnl 2737.09712268356\n",
      "target 37\n"
     ]
    },
    {
     "name": "stderr",
     "output_type": "stream",
     "text": [
      "100%|██████████| 700501/700501 [00:23<00:00, 30215.92it/s]\n"
     ]
    },
    {
     "name": "stdout",
     "output_type": "stream",
     "text": [
      "pnl 2587.285503629695\n",
      "target 34\n"
     ]
    },
    {
     "name": "stderr",
     "output_type": "stream",
     "text": [
      "100%|██████████| 700501/700501 [00:23<00:00, 30123.85it/s]\n"
     ]
    },
    {
     "name": "stdout",
     "output_type": "stream",
     "text": [
      "pnl 2552.746352573771\n",
      "target 20\n"
     ]
    },
    {
     "name": "stderr",
     "output_type": "stream",
     "text": [
      "100%|██████████| 700501/700501 [00:21<00:00, 32198.74it/s]\n"
     ]
    },
    {
     "name": "stdout",
     "output_type": "stream",
     "text": [
      "pnl 2884.7212676441363\n",
      "target 25\n"
     ]
    },
    {
     "name": "stderr",
     "output_type": "stream",
     "text": [
      "100%|██████████| 700501/700501 [00:23<00:00, 30416.26it/s]\n"
     ]
    },
    {
     "name": "stdout",
     "output_type": "stream",
     "text": [
      "pnl 2834.7014070586256\n",
      "target 41\n"
     ]
    },
    {
     "name": "stderr",
     "output_type": "stream",
     "text": [
      "100%|██████████| 700501/700501 [00:24<00:00, 28080.60it/s]\n"
     ]
    },
    {
     "name": "stdout",
     "output_type": "stream",
     "text": [
      "pnl 2627.2268775836656\n",
      "target 37\n"
     ]
    },
    {
     "name": "stderr",
     "output_type": "stream",
     "text": [
      "100%|██████████| 700501/700501 [00:26<00:00, 26557.00it/s]\n"
     ]
    },
    {
     "name": "stdout",
     "output_type": "stream",
     "text": [
      "pnl 2587.285503629695\n",
      "target 8\n"
     ]
    },
    {
     "name": "stderr",
     "output_type": "stream",
     "text": [
      "100%|██████████| 700501/700501 [00:19<00:00, 36579.66it/s]\n"
     ]
    },
    {
     "name": "stdout",
     "output_type": "stream",
     "text": [
      "pnl 2642.6915909165778\n",
      "target 18\n"
     ]
    },
    {
     "name": "stderr",
     "output_type": "stream",
     "text": [
      "100%|██████████| 700501/700501 [00:21<00:00, 31979.84it/s]\n"
     ]
    },
    {
     "name": "stdout",
     "output_type": "stream",
     "text": [
      "pnl 2783.6069972893547\n",
      "target 37\n"
     ]
    },
    {
     "name": "stderr",
     "output_type": "stream",
     "text": [
      "100%|██████████| 700501/700501 [00:25<00:00, 27684.44it/s]\n"
     ]
    },
    {
     "name": "stdout",
     "output_type": "stream",
     "text": [
      "pnl 2587.285503629695\n",
      "target 36\n"
     ]
    },
    {
     "name": "stderr",
     "output_type": "stream",
     "text": [
      "100%|██████████| 700501/700501 [00:23<00:00, 30007.39it/s]\n"
     ]
    },
    {
     "name": "stdout",
     "output_type": "stream",
     "text": [
      "pnl 2549.4168032859493\n",
      "target 34\n"
     ]
    },
    {
     "name": "stderr",
     "output_type": "stream",
     "text": [
      "100%|██████████| 700501/700501 [00:23<00:00, 30124.65it/s]\n"
     ]
    },
    {
     "name": "stdout",
     "output_type": "stream",
     "text": [
      "pnl 2552.746352573771\n",
      "target 39\n"
     ]
    },
    {
     "name": "stderr",
     "output_type": "stream",
     "text": [
      "100%|██████████| 700501/700501 [00:23<00:00, 29346.83it/s]\n"
     ]
    },
    {
     "name": "stdout",
     "output_type": "stream",
     "text": [
      "pnl 2706.697953711898\n",
      "target 34\n"
     ]
    },
    {
     "name": "stderr",
     "output_type": "stream",
     "text": [
      "100%|██████████| 700501/700501 [00:22<00:00, 30561.50it/s]\n"
     ]
    },
    {
     "name": "stdout",
     "output_type": "stream",
     "text": [
      "pnl 2552.746352573771\n",
      "target 27\n"
     ]
    },
    {
     "name": "stderr",
     "output_type": "stream",
     "text": [
      "100%|██████████| 700501/700501 [00:25<00:00, 27915.10it/s]\n"
     ]
    },
    {
     "name": "stdout",
     "output_type": "stream",
     "text": [
      "pnl 2357.333582814703\n",
      "target 16\n"
     ]
    },
    {
     "name": "stderr",
     "output_type": "stream",
     "text": [
      "100%|██████████| 700501/700501 [00:25<00:00, 27248.03it/s]\n"
     ]
    },
    {
     "name": "stdout",
     "output_type": "stream",
     "text": [
      "pnl 2685.92607690749\n",
      "target 21\n"
     ]
    },
    {
     "name": "stderr",
     "output_type": "stream",
     "text": [
      "100%|██████████| 700501/700501 [00:27<00:00, 25094.66it/s]\n"
     ]
    },
    {
     "name": "stdout",
     "output_type": "stream",
     "text": [
      "pnl 3054.9871137565683\n",
      "target 46\n"
     ]
    },
    {
     "name": "stderr",
     "output_type": "stream",
     "text": [
      "100%|██████████| 700501/700501 [00:23<00:00, 30028.89it/s]\n"
     ]
    },
    {
     "name": "stdout",
     "output_type": "stream",
     "text": [
      "pnl 2630.556903613478\n",
      "target 45\n"
     ]
    },
    {
     "name": "stderr",
     "output_type": "stream",
     "text": [
      "100%|██████████| 700501/700501 [00:23<00:00, 29966.15it/s]\n"
     ]
    },
    {
     "name": "stdout",
     "output_type": "stream",
     "text": [
      "pnl 2608.2652938856386\n",
      "target 10\n"
     ]
    },
    {
     "name": "stderr",
     "output_type": "stream",
     "text": [
      "100%|██████████| 700501/700501 [00:18<00:00, 37900.91it/s]\n"
     ]
    },
    {
     "name": "stdout",
     "output_type": "stream",
     "text": [
      "pnl 2590.5823311909962\n",
      "target 42\n"
     ]
    },
    {
     "name": "stderr",
     "output_type": "stream",
     "text": [
      "100%|██████████| 700501/700501 [00:22<00:00, 30943.87it/s]\n"
     ]
    },
    {
     "name": "stdout",
     "output_type": "stream",
     "text": [
      "pnl 2658.5488200850245\n",
      "target 16\n"
     ]
    },
    {
     "name": "stderr",
     "output_type": "stream",
     "text": [
      "100%|██████████| 700501/700501 [00:20<00:00, 34219.44it/s]\n"
     ]
    },
    {
     "name": "stdout",
     "output_type": "stream",
     "text": [
      "pnl 2685.92607690749\n",
      "target 13\n"
     ]
    },
    {
     "name": "stderr",
     "output_type": "stream",
     "text": [
      "100%|██████████| 700501/700501 [00:19<00:00, 35857.85it/s]\n"
     ]
    },
    {
     "name": "stdout",
     "output_type": "stream",
     "text": [
      "pnl 2559.8699514158448\n",
      "target 10\n"
     ]
    },
    {
     "name": "stderr",
     "output_type": "stream",
     "text": [
      "100%|██████████| 700501/700501 [00:19<00:00, 35847.89it/s]\n"
     ]
    },
    {
     "name": "stdout",
     "output_type": "stream",
     "text": [
      "pnl 2590.5823311909962\n",
      "target 14\n"
     ]
    },
    {
     "name": "stderr",
     "output_type": "stream",
     "text": [
      "100%|██████████| 700501/700501 [00:19<00:00, 35438.83it/s]\n"
     ]
    },
    {
     "name": "stdout",
     "output_type": "stream",
     "text": [
      "pnl 2533.0581764753947\n",
      "target 31\n"
     ]
    },
    {
     "name": "stderr",
     "output_type": "stream",
     "text": [
      "100%|██████████| 700501/700501 [00:21<00:00, 32433.47it/s]\n"
     ]
    },
    {
     "name": "stdout",
     "output_type": "stream",
     "text": [
      "pnl 2396.945691521435\n",
      "target 9\n"
     ]
    },
    {
     "name": "stderr",
     "output_type": "stream",
     "text": [
      "100%|██████████| 700501/700501 [00:18<00:00, 38027.47it/s]\n"
     ]
    },
    {
     "name": "stdout",
     "output_type": "stream",
     "text": [
      "pnl 2669.3383590427165\n",
      "target 38\n"
     ]
    },
    {
     "name": "stderr",
     "output_type": "stream",
     "text": [
      "100%|██████████| 700501/700501 [00:23<00:00, 29401.87it/s]\n"
     ]
    },
    {
     "name": "stdout",
     "output_type": "stream",
     "text": [
      "pnl 2642.1110092191752\n",
      "target 43\n"
     ]
    },
    {
     "name": "stderr",
     "output_type": "stream",
     "text": [
      "100%|██████████| 700501/700501 [00:24<00:00, 29071.49it/s]\n"
     ]
    },
    {
     "name": "stdout",
     "output_type": "stream",
     "text": [
      "pnl 2680.254469668458\n",
      "target 38\n"
     ]
    },
    {
     "name": "stderr",
     "output_type": "stream",
     "text": [
      "100%|██████████| 700501/700501 [00:22<00:00, 31277.87it/s]\n"
     ]
    },
    {
     "name": "stdout",
     "output_type": "stream",
     "text": [
      "pnl 2642.1110092191752\n",
      "target 36\n"
     ]
    },
    {
     "name": "stderr",
     "output_type": "stream",
     "text": [
      "100%|██████████| 700501/700501 [00:22<00:00, 30507.76it/s]\n"
     ]
    },
    {
     "name": "stdout",
     "output_type": "stream",
     "text": [
      "pnl 2549.4168032859493\n",
      "target 48\n"
     ]
    },
    {
     "name": "stderr",
     "output_type": "stream",
     "text": [
      "100%|██████████| 700501/700501 [00:23<00:00, 29585.10it/s]\n"
     ]
    },
    {
     "name": "stdout",
     "output_type": "stream",
     "text": [
      "pnl 2603.953961349963\n",
      "target 33\n"
     ]
    },
    {
     "name": "stderr",
     "output_type": "stream",
     "text": [
      "100%|██████████| 700501/700501 [00:24<00:00, 28262.78it/s]\n"
     ]
    },
    {
     "name": "stdout",
     "output_type": "stream",
     "text": [
      "pnl 2536.0032483178156\n",
      "target 49\n"
     ]
    },
    {
     "name": "stderr",
     "output_type": "stream",
     "text": [
      "100%|██████████| 700501/700501 [00:22<00:00, 30699.72it/s]\n"
     ]
    },
    {
     "name": "stdout",
     "output_type": "stream",
     "text": [
      "pnl 2653.3451140536936\n",
      "target 14\n"
     ]
    },
    {
     "name": "stderr",
     "output_type": "stream",
     "text": [
      "100%|██████████| 700501/700501 [00:20<00:00, 34987.72it/s]\n"
     ]
    },
    {
     "name": "stdout",
     "output_type": "stream",
     "text": [
      "pnl 2533.0581764753947\n",
      "target 5\n"
     ]
    },
    {
     "name": "stderr",
     "output_type": "stream",
     "text": [
      "100%|██████████| 700501/700501 [00:17<00:00, 39908.85it/s]\n"
     ]
    },
    {
     "name": "stdout",
     "output_type": "stream",
     "text": [
      "pnl 2263.4914484783344\n",
      "target 30\n"
     ]
    },
    {
     "name": "stderr",
     "output_type": "stream",
     "text": [
      "100%|██████████| 700501/700501 [00:28<00:00, 24330.52it/s]\n"
     ]
    },
    {
     "name": "stdout",
     "output_type": "stream",
     "text": [
      "pnl 2417.1497853689434\n",
      "target 28\n"
     ]
    },
    {
     "name": "stderr",
     "output_type": "stream",
     "text": [
      "100%|██████████| 700501/700501 [00:30<00:00, 23332.72it/s]\n"
     ]
    },
    {
     "name": "stdout",
     "output_type": "stream",
     "text": [
      "pnl 2319.4959736762294\n",
      "target 10\n"
     ]
    },
    {
     "name": "stderr",
     "output_type": "stream",
     "text": [
      "100%|██████████| 700501/700501 [00:22<00:00, 31037.87it/s]\n"
     ]
    },
    {
     "name": "stdout",
     "output_type": "stream",
     "text": [
      "pnl 2590.5823311909962\n",
      "target 14\n"
     ]
    },
    {
     "name": "stderr",
     "output_type": "stream",
     "text": [
      "100%|██████████| 700501/700501 [00:23<00:00, 29993.01it/s]\n"
     ]
    },
    {
     "name": "stdout",
     "output_type": "stream",
     "text": [
      "pnl 2533.0581764753947\n",
      "target 48\n"
     ]
    },
    {
     "name": "stderr",
     "output_type": "stream",
     "text": [
      "100%|██████████| 700501/700501 [00:27<00:00, 25346.52it/s]\n"
     ]
    },
    {
     "name": "stdout",
     "output_type": "stream",
     "text": [
      "pnl 2603.953961349963\n",
      "target 31\n"
     ]
    },
    {
     "name": "stderr",
     "output_type": "stream",
     "text": [
      "100%|██████████| 700501/700501 [00:25<00:00, 27011.82it/s]\n"
     ]
    },
    {
     "name": "stdout",
     "output_type": "stream",
     "text": [
      "pnl 2396.945691521435\n",
      "target 45\n"
     ]
    },
    {
     "name": "stderr",
     "output_type": "stream",
     "text": [
      "100%|██████████| 700501/700501 [00:26<00:00, 26179.49it/s]\n"
     ]
    },
    {
     "name": "stdout",
     "output_type": "stream",
     "text": [
      "pnl 2608.2652938856386\n",
      "target 28\n"
     ]
    },
    {
     "name": "stderr",
     "output_type": "stream",
     "text": [
      "100%|██████████| 700501/700501 [00:26<00:00, 26314.23it/s]\n"
     ]
    },
    {
     "name": "stdout",
     "output_type": "stream",
     "text": [
      "pnl 2319.4959736762294\n",
      "target 49\n"
     ]
    },
    {
     "name": "stderr",
     "output_type": "stream",
     "text": [
      "100%|██████████| 700501/700501 [00:30<00:00, 23206.61it/s]\n"
     ]
    },
    {
     "name": "stdout",
     "output_type": "stream",
     "text": [
      "pnl 2653.3451140536936\n",
      "target 48\n"
     ]
    },
    {
     "name": "stderr",
     "output_type": "stream",
     "text": [
      "100%|██████████| 700501/700501 [00:30<00:00, 22869.72it/s]\n"
     ]
    },
    {
     "name": "stdout",
     "output_type": "stream",
     "text": [
      "pnl 2603.953961349963\n",
      "target 44\n"
     ]
    },
    {
     "name": "stderr",
     "output_type": "stream",
     "text": [
      "100%|██████████| 700501/700501 [00:30<00:00, 22704.48it/s]\n"
     ]
    },
    {
     "name": "stdout",
     "output_type": "stream",
     "text": [
      "pnl 2599.4167943061384\n",
      "target 11\n"
     ]
    },
    {
     "name": "stderr",
     "output_type": "stream",
     "text": [
      "100%|██████████| 700501/700501 [00:26<00:00, 26235.91it/s]\n"
     ]
    },
    {
     "name": "stdout",
     "output_type": "stream",
     "text": [
      "pnl 2850.993233714\n",
      "target 41\n"
     ]
    },
    {
     "name": "stderr",
     "output_type": "stream",
     "text": [
      "100%|██████████| 700501/700501 [00:30<00:00, 22991.28it/s]\n"
     ]
    },
    {
     "name": "stdout",
     "output_type": "stream",
     "text": [
      "pnl 2627.2268775836656\n",
      "target 47\n"
     ]
    },
    {
     "name": "stderr",
     "output_type": "stream",
     "text": [
      "100%|██████████| 700501/700501 [00:28<00:00, 24656.96it/s]\n"
     ]
    },
    {
     "name": "stdout",
     "output_type": "stream",
     "text": [
      "pnl 2574.1523595280255\n",
      "target 37\n"
     ]
    },
    {
     "name": "stderr",
     "output_type": "stream",
     "text": [
      "100%|██████████| 700501/700501 [00:27<00:00, 25777.67it/s]\n"
     ]
    },
    {
     "name": "stdout",
     "output_type": "stream",
     "text": [
      "pnl 2587.285503629695\n",
      "target 32\n"
     ]
    },
    {
     "name": "stderr",
     "output_type": "stream",
     "text": [
      "100%|██████████| 700501/700501 [00:26<00:00, 26706.92it/s]\n"
     ]
    },
    {
     "name": "stdout",
     "output_type": "stream",
     "text": [
      "pnl 2446.58709565396\n",
      "target 33\n"
     ]
    },
    {
     "name": "stderr",
     "output_type": "stream",
     "text": [
      "100%|██████████| 700501/700501 [00:29<00:00, 24116.56it/s]\n"
     ]
    },
    {
     "name": "stdout",
     "output_type": "stream",
     "text": [
      "pnl 2536.0032483178156\n",
      "target 39\n"
     ]
    },
    {
     "name": "stderr",
     "output_type": "stream",
     "text": [
      "100%|██████████| 700501/700501 [00:29<00:00, 24000.21it/s]\n"
     ]
    },
    {
     "name": "stdout",
     "output_type": "stream",
     "text": [
      "pnl 2706.697953711898\n",
      "target 39\n"
     ]
    },
    {
     "name": "stderr",
     "output_type": "stream",
     "text": [
      "100%|██████████| 700501/700501 [00:27<00:00, 25131.42it/s]\n"
     ]
    },
    {
     "name": "stdout",
     "output_type": "stream",
     "text": [
      "pnl 2706.697953711898\n",
      "target 34\n"
     ]
    },
    {
     "name": "stderr",
     "output_type": "stream",
     "text": [
      "100%|██████████| 700501/700501 [00:27<00:00, 25256.40it/s]\n"
     ]
    },
    {
     "name": "stdout",
     "output_type": "stream",
     "text": [
      "pnl 2552.746352573771\n",
      "target 28\n"
     ]
    },
    {
     "name": "stderr",
     "output_type": "stream",
     "text": [
      "100%|██████████| 700501/700501 [00:27<00:00, 25249.02it/s]\n"
     ]
    },
    {
     "name": "stdout",
     "output_type": "stream",
     "text": [
      "pnl 2319.4959736762294\n",
      "target 24\n"
     ]
    },
    {
     "name": "stderr",
     "output_type": "stream",
     "text": [
      "100%|██████████| 700501/700501 [00:25<00:00, 27112.68it/s]\n"
     ]
    },
    {
     "name": "stdout",
     "output_type": "stream",
     "text": [
      "pnl 2826.3074404893587\n",
      "target 18\n"
     ]
    },
    {
     "name": "stderr",
     "output_type": "stream",
     "text": [
      "100%|██████████| 700501/700501 [00:24<00:00, 28698.79it/s]\n"
     ]
    },
    {
     "name": "stdout",
     "output_type": "stream",
     "text": [
      "pnl 2783.6069972893547\n",
      "target 29\n"
     ]
    },
    {
     "name": "stderr",
     "output_type": "stream",
     "text": [
      "100%|██████████| 700501/700501 [00:26<00:00, 26727.99it/s]\n"
     ]
    },
    {
     "name": "stdout",
     "output_type": "stream",
     "text": [
      "pnl 2423.5785867839495\n",
      "target 5\n"
     ]
    },
    {
     "name": "stderr",
     "output_type": "stream",
     "text": [
      "100%|██████████| 700501/700501 [00:22<00:00, 31153.60it/s]\n"
     ]
    },
    {
     "name": "stdout",
     "output_type": "stream",
     "text": [
      "pnl 2263.4914484783344\n",
      "target 40\n"
     ]
    },
    {
     "name": "stderr",
     "output_type": "stream",
     "text": [
      "100%|██████████| 700501/700501 [00:26<00:00, 26152.75it/s]\n"
     ]
    },
    {
     "name": "stdout",
     "output_type": "stream",
     "text": [
      "pnl 2732.3027454264984\n",
      "target 14\n"
     ]
    },
    {
     "name": "stderr",
     "output_type": "stream",
     "text": [
      "100%|██████████| 700501/700501 [00:23<00:00, 29310.74it/s]\n"
     ]
    },
    {
     "name": "stdout",
     "output_type": "stream",
     "text": [
      "pnl 2533.0581764753947\n",
      "target 39\n"
     ]
    },
    {
     "name": "stderr",
     "output_type": "stream",
     "text": [
      "100%|██████████| 700501/700501 [00:27<00:00, 25370.65it/s]\n"
     ]
    },
    {
     "name": "stdout",
     "output_type": "stream",
     "text": [
      "pnl 2706.697953711898\n",
      "target 46\n"
     ]
    },
    {
     "name": "stderr",
     "output_type": "stream",
     "text": [
      "100%|██████████| 700501/700501 [00:26<00:00, 26041.98it/s]\n"
     ]
    },
    {
     "name": "stdout",
     "output_type": "stream",
     "text": [
      "pnl 2630.556903613478\n",
      "target 11\n"
     ]
    },
    {
     "name": "stderr",
     "output_type": "stream",
     "text": [
      "100%|██████████| 700501/700501 [00:21<00:00, 33222.55it/s]\n"
     ]
    },
    {
     "name": "stdout",
     "output_type": "stream",
     "text": [
      "pnl 2850.993233714\n",
      "target 20\n"
     ]
    },
    {
     "name": "stderr",
     "output_type": "stream",
     "text": [
      "100%|██████████| 700501/700501 [00:23<00:00, 29453.04it/s]\n"
     ]
    },
    {
     "name": "stdout",
     "output_type": "stream",
     "text": [
      "pnl 2884.7212676441363\n",
      "target 34\n"
     ]
    },
    {
     "name": "stderr",
     "output_type": "stream",
     "text": [
      "100%|██████████| 700501/700501 [00:25<00:00, 27333.63it/s]\n"
     ]
    },
    {
     "name": "stdout",
     "output_type": "stream",
     "text": [
      "pnl 2552.746352573771\n",
      "target 24\n"
     ]
    },
    {
     "name": "stderr",
     "output_type": "stream",
     "text": [
      "100%|██████████| 700501/700501 [00:24<00:00, 28613.16it/s]\n"
     ]
    },
    {
     "name": "stdout",
     "output_type": "stream",
     "text": [
      "pnl 2826.3074404893587\n",
      "target 13\n"
     ]
    },
    {
     "name": "stderr",
     "output_type": "stream",
     "text": [
      "100%|██████████| 700501/700501 [00:22<00:00, 31527.96it/s]\n"
     ]
    },
    {
     "name": "stdout",
     "output_type": "stream",
     "text": [
      "pnl 2559.8699514158448\n",
      "target 23\n"
     ]
    },
    {
     "name": "stderr",
     "output_type": "stream",
     "text": [
      "100%|██████████| 700501/700501 [00:24<00:00, 28962.75it/s]\n"
     ]
    },
    {
     "name": "stdout",
     "output_type": "stream",
     "text": [
      "pnl 2941.2467339886466\n",
      "target 6\n"
     ]
    },
    {
     "name": "stderr",
     "output_type": "stream",
     "text": [
      "100%|██████████| 700501/700501 [00:19<00:00, 35256.50it/s]\n"
     ]
    },
    {
     "name": "stdout",
     "output_type": "stream",
     "text": [
      "pnl 2550.3932754493444\n",
      "target 18\n"
     ]
    },
    {
     "name": "stderr",
     "output_type": "stream",
     "text": [
      "100%|██████████| 700501/700501 [00:23<00:00, 30080.78it/s]\n"
     ]
    },
    {
     "name": "stdout",
     "output_type": "stream",
     "text": [
      "pnl 2783.6069972893547\n",
      "target 10\n"
     ]
    },
    {
     "name": "stderr",
     "output_type": "stream",
     "text": [
      "100%|██████████| 700501/700501 [00:21<00:00, 32926.24it/s]\n"
     ]
    },
    {
     "name": "stdout",
     "output_type": "stream",
     "text": [
      "pnl 2590.5823311909962\n",
      "target 19\n"
     ]
    },
    {
     "name": "stderr",
     "output_type": "stream",
     "text": [
      "100%|██████████| 700501/700501 [00:23<00:00, 30113.10it/s]\n"
     ]
    },
    {
     "name": "stdout",
     "output_type": "stream",
     "text": [
      "pnl 2754.6846759960313\n",
      "target 28\n"
     ]
    },
    {
     "name": "stderr",
     "output_type": "stream",
     "text": [
      "100%|██████████| 700501/700501 [00:22<00:00, 31609.59it/s]\n"
     ]
    },
    {
     "name": "stdout",
     "output_type": "stream",
     "text": [
      "pnl 2319.4959736762294\n",
      "target 8\n"
     ]
    },
    {
     "name": "stderr",
     "output_type": "stream",
     "text": [
      "100%|██████████| 700501/700501 [00:20<00:00, 34521.55it/s]\n"
     ]
    },
    {
     "name": "stdout",
     "output_type": "stream",
     "text": [
      "pnl 2642.6915909165778\n",
      "target 11\n"
     ]
    },
    {
     "name": "stderr",
     "output_type": "stream",
     "text": [
      "100%|██████████| 700501/700501 [00:19<00:00, 36626.46it/s]\n"
     ]
    },
    {
     "name": "stdout",
     "output_type": "stream",
     "text": [
      "pnl 2850.993233714\n",
      "target 9\n"
     ]
    },
    {
     "name": "stderr",
     "output_type": "stream",
     "text": [
      "100%|██████████| 700501/700501 [00:18<00:00, 37494.82it/s]\n"
     ]
    },
    {
     "name": "stdout",
     "output_type": "stream",
     "text": [
      "pnl 2669.3383590427165\n",
      "target 29\n"
     ]
    },
    {
     "name": "stderr",
     "output_type": "stream",
     "text": [
      "100%|██████████| 700501/700501 [00:22<00:00, 31154.57it/s]\n"
     ]
    },
    {
     "name": "stdout",
     "output_type": "stream",
     "text": [
      "pnl 2423.5785867839495\n",
      "target 19\n"
     ]
    },
    {
     "name": "stderr",
     "output_type": "stream",
     "text": [
      "100%|██████████| 700501/700501 [00:20<00:00, 33644.02it/s]\n"
     ]
    },
    {
     "name": "stdout",
     "output_type": "stream",
     "text": [
      "pnl 2754.6846759960313\n",
      "target 26\n"
     ]
    },
    {
     "name": "stderr",
     "output_type": "stream",
     "text": [
      "100%|██████████| 700501/700501 [00:23<00:00, 29840.55it/s]\n"
     ]
    },
    {
     "name": "stdout",
     "output_type": "stream",
     "text": [
      "pnl 2856.1058015383705\n",
      "target 30\n"
     ]
    },
    {
     "name": "stderr",
     "output_type": "stream",
     "text": [
      "100%|██████████| 700501/700501 [00:22<00:00, 31608.58it/s]\n"
     ]
    },
    {
     "name": "stdout",
     "output_type": "stream",
     "text": [
      "pnl 2417.1497853689434\n",
      "target 30\n"
     ]
    },
    {
     "name": "stderr",
     "output_type": "stream",
     "text": [
      "100%|██████████| 700501/700501 [00:22<00:00, 31638.63it/s]\n"
     ]
    },
    {
     "name": "stdout",
     "output_type": "stream",
     "text": [
      "pnl 2417.1497853689434\n",
      "target 19\n"
     ]
    },
    {
     "name": "stderr",
     "output_type": "stream",
     "text": [
      "100%|██████████| 700501/700501 [00:20<00:00, 33914.31it/s]\n"
     ]
    },
    {
     "name": "stdout",
     "output_type": "stream",
     "text": [
      "pnl 2754.6846759960313\n",
      "target 32\n"
     ]
    },
    {
     "name": "stderr",
     "output_type": "stream",
     "text": [
      "100%|██████████| 700501/700501 [00:22<00:00, 31693.87it/s]\n"
     ]
    },
    {
     "name": "stdout",
     "output_type": "stream",
     "text": [
      "pnl 2446.58709565396\n",
      "target 47\n"
     ]
    },
    {
     "name": "stderr",
     "output_type": "stream",
     "text": [
      "100%|██████████| 700501/700501 [00:24<00:00, 28683.66it/s]\n"
     ]
    },
    {
     "name": "stdout",
     "output_type": "stream",
     "text": [
      "pnl 2574.1523595280255\n",
      "target 32\n"
     ]
    },
    {
     "name": "stderr",
     "output_type": "stream",
     "text": [
      "100%|██████████| 700501/700501 [00:22<00:00, 30673.75it/s]\n"
     ]
    },
    {
     "name": "stdout",
     "output_type": "stream",
     "text": [
      "pnl 2446.58709565396\n",
      "target 10\n"
     ]
    },
    {
     "name": "stderr",
     "output_type": "stream",
     "text": [
      "100%|██████████| 700501/700501 [00:18<00:00, 37461.91it/s]\n"
     ]
    },
    {
     "name": "stdout",
     "output_type": "stream",
     "text": [
      "pnl 2590.5823311909962\n",
      "target 25\n"
     ]
    },
    {
     "name": "stderr",
     "output_type": "stream",
     "text": [
      "100%|██████████| 700501/700501 [00:20<00:00, 33746.96it/s]\n"
     ]
    },
    {
     "name": "stdout",
     "output_type": "stream",
     "text": [
      "pnl 2834.7014070586256\n",
      "target 17\n"
     ]
    },
    {
     "name": "stderr",
     "output_type": "stream",
     "text": [
      "100%|██████████| 700501/700501 [00:19<00:00, 35079.68it/s]\n"
     ]
    },
    {
     "name": "stdout",
     "output_type": "stream",
     "text": [
      "pnl 2808.2960518951654\n",
      "target 13\n"
     ]
    },
    {
     "name": "stderr",
     "output_type": "stream",
     "text": [
      "100%|██████████| 700501/700501 [00:19<00:00, 35025.52it/s]\n"
     ]
    },
    {
     "name": "stdout",
     "output_type": "stream",
     "text": [
      "pnl 2559.8699514158448\n",
      "target 25\n"
     ]
    },
    {
     "name": "stderr",
     "output_type": "stream",
     "text": [
      "100%|██████████| 700501/700501 [00:22<00:00, 30547.14it/s]\n"
     ]
    },
    {
     "name": "stdout",
     "output_type": "stream",
     "text": [
      "pnl 2834.7014070586256\n",
      "target 23\n"
     ]
    },
    {
     "name": "stderr",
     "output_type": "stream",
     "text": [
      "100%|██████████| 700501/700501 [00:21<00:00, 32907.93it/s]\n"
     ]
    },
    {
     "name": "stdout",
     "output_type": "stream",
     "text": [
      "pnl 2941.2467339886466\n",
      "target 29\n"
     ]
    },
    {
     "name": "stderr",
     "output_type": "stream",
     "text": [
      "100%|██████████| 700501/700501 [00:21<00:00, 33102.03it/s]\n"
     ]
    },
    {
     "name": "stdout",
     "output_type": "stream",
     "text": [
      "pnl 2423.5785867839495\n",
      "target 23\n"
     ]
    },
    {
     "name": "stderr",
     "output_type": "stream",
     "text": [
      "100%|██████████| 700501/700501 [00:21<00:00, 32981.04it/s]\n"
     ]
    },
    {
     "name": "stdout",
     "output_type": "stream",
     "text": [
      "pnl 2941.2467339886466\n",
      "target 23\n"
     ]
    },
    {
     "name": "stderr",
     "output_type": "stream",
     "text": [
      "100%|██████████| 700501/700501 [00:21<00:00, 32808.93it/s]\n"
     ]
    },
    {
     "name": "stdout",
     "output_type": "stream",
     "text": [
      "pnl 2941.2467339886466\n",
      "target 6\n"
     ]
    },
    {
     "name": "stderr",
     "output_type": "stream",
     "text": [
      "100%|██████████| 700501/700501 [00:20<00:00, 34711.45it/s]\n"
     ]
    },
    {
     "name": "stdout",
     "output_type": "stream",
     "text": [
      "pnl 2550.3932754493444\n",
      "target 34\n"
     ]
    },
    {
     "name": "stderr",
     "output_type": "stream",
     "text": [
      "100%|██████████| 700501/700501 [00:23<00:00, 29810.01it/s]\n"
     ]
    },
    {
     "name": "stdout",
     "output_type": "stream",
     "text": [
      "pnl 2552.746352573771\n",
      "target 28\n"
     ]
    },
    {
     "name": "stderr",
     "output_type": "stream",
     "text": [
      "100%|██████████| 700501/700501 [00:21<00:00, 32493.81it/s]\n"
     ]
    },
    {
     "name": "stdout",
     "output_type": "stream",
     "text": [
      "pnl 2319.4959736762294\n",
      "target 48\n"
     ]
    },
    {
     "name": "stderr",
     "output_type": "stream",
     "text": [
      "100%|██████████| 700501/700501 [00:22<00:00, 30949.59it/s]\n"
     ]
    },
    {
     "name": "stdout",
     "output_type": "stream",
     "text": [
      "pnl 2603.953961349963\n",
      "target 25\n"
     ]
    },
    {
     "name": "stderr",
     "output_type": "stream",
     "text": [
      "100%|██████████| 700501/700501 [00:23<00:00, 30243.98it/s]\n"
     ]
    },
    {
     "name": "stdout",
     "output_type": "stream",
     "text": [
      "pnl 2834.7014070586256\n",
      "target 46\n"
     ]
    },
    {
     "name": "stderr",
     "output_type": "stream",
     "text": [
      "100%|██████████| 700501/700501 [00:25<00:00, 26951.03it/s]\n"
     ]
    },
    {
     "name": "stdout",
     "output_type": "stream",
     "text": [
      "pnl 2630.556903613478\n",
      "target 12\n"
     ]
    },
    {
     "name": "stderr",
     "output_type": "stream",
     "text": [
      "100%|██████████| 700501/700501 [00:22<00:00, 31257.11it/s]\n"
     ]
    },
    {
     "name": "stdout",
     "output_type": "stream",
     "text": [
      "pnl 2542.973264911318\n",
      "target 22\n"
     ]
    },
    {
     "name": "stderr",
     "output_type": "stream",
     "text": [
      "100%|██████████| 700501/700501 [00:24<00:00, 28250.57it/s]\n"
     ]
    },
    {
     "name": "stdout",
     "output_type": "stream",
     "text": [
      "pnl 3009.685980290699\n",
      "target 19\n"
     ]
    },
    {
     "name": "stderr",
     "output_type": "stream",
     "text": [
      "100%|██████████| 700501/700501 [00:23<00:00, 29316.64it/s]\n"
     ]
    },
    {
     "name": "stdout",
     "output_type": "stream",
     "text": [
      "pnl 2754.6846759960313\n",
      "target 12\n"
     ]
    },
    {
     "name": "stderr",
     "output_type": "stream",
     "text": [
      "100%|██████████| 700501/700501 [00:22<00:00, 30869.71it/s]\n"
     ]
    },
    {
     "name": "stdout",
     "output_type": "stream",
     "text": [
      "pnl 2542.973264911318\n",
      "target 31\n"
     ]
    },
    {
     "name": "stderr",
     "output_type": "stream",
     "text": [
      "100%|██████████| 700501/700501 [00:25<00:00, 27221.85it/s]\n"
     ]
    },
    {
     "name": "stdout",
     "output_type": "stream",
     "text": [
      "pnl 2396.945691521435\n",
      "target 28\n"
     ]
    },
    {
     "name": "stderr",
     "output_type": "stream",
     "text": [
      "100%|██████████| 700501/700501 [00:25<00:00, 27655.51it/s]\n"
     ]
    },
    {
     "name": "stdout",
     "output_type": "stream",
     "text": [
      "pnl 2319.4959736762294\n",
      "target 28\n"
     ]
    },
    {
     "name": "stderr",
     "output_type": "stream",
     "text": [
      "100%|██████████| 700501/700501 [00:25<00:00, 27852.12it/s]\n"
     ]
    },
    {
     "name": "stdout",
     "output_type": "stream",
     "text": [
      "pnl 2319.4959736762294\n",
      "target 43\n"
     ]
    },
    {
     "name": "stderr",
     "output_type": "stream",
     "text": [
      "100%|██████████| 700501/700501 [00:26<00:00, 26564.47it/s]\n"
     ]
    },
    {
     "name": "stdout",
     "output_type": "stream",
     "text": [
      "pnl 2680.254469668458\n",
      "target 24\n"
     ]
    },
    {
     "name": "stderr",
     "output_type": "stream",
     "text": [
      "100%|██████████| 700501/700501 [00:24<00:00, 28516.95it/s]\n"
     ]
    },
    {
     "name": "stdout",
     "output_type": "stream",
     "text": [
      "pnl 2826.3074404893587\n",
      "target 38\n"
     ]
    },
    {
     "name": "stderr",
     "output_type": "stream",
     "text": [
      "100%|██████████| 700501/700501 [00:26<00:00, 26846.13it/s]\n"
     ]
    },
    {
     "name": "stdout",
     "output_type": "stream",
     "text": [
      "pnl 2642.1110092191752\n",
      "target 37\n"
     ]
    },
    {
     "name": "stderr",
     "output_type": "stream",
     "text": [
      "100%|██████████| 700501/700501 [00:26<00:00, 26222.06it/s]\n"
     ]
    },
    {
     "name": "stdout",
     "output_type": "stream",
     "text": [
      "pnl 2587.285503629695\n",
      "target 34\n"
     ]
    },
    {
     "name": "stderr",
     "output_type": "stream",
     "text": [
      "100%|██████████| 700501/700501 [00:26<00:00, 26774.90it/s]\n"
     ]
    },
    {
     "name": "stdout",
     "output_type": "stream",
     "text": [
      "pnl 2552.746352573771\n",
      "target 6\n"
     ]
    },
    {
     "name": "stderr",
     "output_type": "stream",
     "text": [
      "100%|██████████| 700501/700501 [00:20<00:00, 33867.54it/s]\n"
     ]
    },
    {
     "name": "stdout",
     "output_type": "stream",
     "text": [
      "pnl 2550.3932754493444\n",
      "target 47\n"
     ]
    },
    {
     "name": "stderr",
     "output_type": "stream",
     "text": [
      "100%|██████████| 700501/700501 [00:26<00:00, 25990.42it/s]\n"
     ]
    },
    {
     "name": "stdout",
     "output_type": "stream",
     "text": [
      "pnl 2574.1523595280255\n",
      "target 31\n"
     ]
    },
    {
     "name": "stderr",
     "output_type": "stream",
     "text": [
      "100%|██████████| 700501/700501 [00:26<00:00, 26875.24it/s]\n"
     ]
    },
    {
     "name": "stdout",
     "output_type": "stream",
     "text": [
      "pnl 2396.945691521435\n",
      "target 49\n"
     ]
    },
    {
     "name": "stderr",
     "output_type": "stream",
     "text": [
      " 17%|█▋        | 121290/700501 [00:04<00:23, 25142.90it/s]\n"
     ]
    },
    {
     "ename": "KeyboardInterrupt",
     "evalue": "",
     "output_type": "error",
     "traceback": [
      "\u001b[1;31m---------------------------------------------------------------------------\u001b[0m",
      "\u001b[1;31mKeyboardInterrupt\u001b[0m                         Traceback (most recent call last)",
      "Cell \u001b[1;32mIn[9], line 36\u001b[0m\n\u001b[0;32m     33\u001b[0m num_simulations \u001b[38;5;241m=\u001b[39m \u001b[38;5;241m5000\u001b[39m\n\u001b[0;32m     34\u001b[0m batch_size \u001b[38;5;241m=\u001b[39m \u001b[38;5;241m20\u001b[39m\n\u001b[1;32m---> 36\u001b[0m simulation_results \u001b[38;5;241m=\u001b[39m \u001b[43moptimize_pnl_calculator\u001b[49m\u001b[43m(\u001b[49m\u001b[43mnum_simulations\u001b[49m\u001b[43m,\u001b[49m\u001b[43m \u001b[49m\u001b[43mbatch_size\u001b[49m\u001b[43m)\u001b[49m\n",
      "Cell \u001b[1;32mIn[9], line 12\u001b[0m, in \u001b[0;36moptimize_pnl_calculator\u001b[1;34m(num_simulations, batch_size)\u001b[0m\n\u001b[0;32m     10\u001b[0m \u001b[38;5;28mprint\u001b[39m(\u001b[38;5;124m'\u001b[39m\u001b[38;5;124mtarget\u001b[39m\u001b[38;5;124m'\u001b[39m, target)\n\u001b[0;32m     11\u001b[0m pnl_calculator \u001b[38;5;241m=\u001b[39m PnlCalulator(target\u001b[38;5;241m=\u001b[39mtarget)  \u001b[38;5;66;03m# Create an instance of PnlCalculator\u001b[39;00m\n\u001b[1;32m---> 12\u001b[0m obj,net_pnl \u001b[38;5;241m=\u001b[39m \u001b[43mpnl_calculator\u001b[49m\u001b[38;5;241;43m.\u001b[39;49m\u001b[43mCrossover\u001b[49m\u001b[43m(\u001b[49m\u001b[43m)\u001b[49m  \u001b[38;5;66;03m# Assuming crossover_tp is defined in PnlCalculator\u001b[39;00m\n\u001b[0;32m     13\u001b[0m \u001b[38;5;28mprint\u001b[39m(\u001b[38;5;124m'\u001b[39m\u001b[38;5;124mpnl\u001b[39m\u001b[38;5;124m'\u001b[39m, net_pnl)\n\u001b[0;32m     14\u001b[0m pd\u001b[38;5;241m.\u001b[39moptions\u001b[38;5;241m.\u001b[39mmode\u001b[38;5;241m.\u001b[39mchained_assignment \u001b[38;5;241m=\u001b[39m \u001b[38;5;28;01mNone\u001b[39;00m\n",
      "Cell \u001b[1;32mIn[8], line 32\u001b[0m, in \u001b[0;36mPnlCalulator.Crossover\u001b[1;34m(self)\u001b[0m\n\u001b[0;32m     30\u001b[0m j \u001b[38;5;241m=\u001b[39m i\n\u001b[0;32m     31\u001b[0m mula \u001b[38;5;241m=\u001b[39m \u001b[38;5;241m1\u001b[39m\n\u001b[1;32m---> 32\u001b[0m \u001b[38;5;28;01mwhile\u001b[39;00m j \u001b[38;5;241m<\u001b[39m \u001b[38;5;28mlen\u001b[39m(df) \u001b[38;5;129;01mand\u001b[39;00m \u001b[43mdf\u001b[49m\u001b[43m[\u001b[49m\u001b[38;5;124;43m'\u001b[39;49m\u001b[38;5;124;43msignal\u001b[39;49m\u001b[38;5;124;43m'\u001b[39;49m\u001b[43m]\u001b[49m\u001b[38;5;241;43m.\u001b[39;49m\u001b[43miloc\u001b[49m\u001b[43m[\u001b[49m\u001b[43mj\u001b[49m\u001b[43m]\u001b[49m \u001b[38;5;241m!=\u001b[39m \u001b[38;5;241m-\u001b[39m\u001b[38;5;241m2\u001b[39m \u001b[38;5;129;01mand\u001b[39;00m intrade:\n\u001b[0;32m     33\u001b[0m     \u001b[38;5;28;01mif\u001b[39;00m df[\u001b[38;5;124m'\u001b[39m\u001b[38;5;124mHA_Low\u001b[39m\u001b[38;5;124m'\u001b[39m]\u001b[38;5;241m.\u001b[39miloc[j] \u001b[38;5;241m<\u001b[39m\u001b[38;5;241m=\u001b[39m sl \u001b[38;5;241m<\u001b[39m\u001b[38;5;241m=\u001b[39m df[\u001b[38;5;124m'\u001b[39m\u001b[38;5;124mHA_High\u001b[39m\u001b[38;5;124m'\u001b[39m]\u001b[38;5;241m.\u001b[39miloc[j]:\n\u001b[0;32m     34\u001b[0m         df\u001b[38;5;241m.\u001b[39mat[j, \u001b[38;5;124m'\u001b[39m\u001b[38;5;124msignal\u001b[39m\u001b[38;5;124m'\u001b[39m] \u001b[38;5;241m=\u001b[39m \u001b[38;5;241m-\u001b[39m\u001b[38;5;241m1\u001b[39m\n",
      "File \u001b[1;32m~\\anaconda3\\anaconda\\Lib\\site-packages\\pandas\\core\\indexing.py:1153\u001b[0m, in \u001b[0;36m_LocationIndexer.__getitem__\u001b[1;34m(self, key)\u001b[0m\n\u001b[0;32m   1150\u001b[0m axis \u001b[38;5;241m=\u001b[39m \u001b[38;5;28mself\u001b[39m\u001b[38;5;241m.\u001b[39maxis \u001b[38;5;129;01mor\u001b[39;00m \u001b[38;5;241m0\u001b[39m\n\u001b[0;32m   1152\u001b[0m maybe_callable \u001b[38;5;241m=\u001b[39m com\u001b[38;5;241m.\u001b[39mapply_if_callable(key, \u001b[38;5;28mself\u001b[39m\u001b[38;5;241m.\u001b[39mobj)\n\u001b[1;32m-> 1153\u001b[0m \u001b[38;5;28;01mreturn\u001b[39;00m \u001b[38;5;28;43mself\u001b[39;49m\u001b[38;5;241;43m.\u001b[39;49m\u001b[43m_getitem_axis\u001b[49m\u001b[43m(\u001b[49m\u001b[43mmaybe_callable\u001b[49m\u001b[43m,\u001b[49m\u001b[43m \u001b[49m\u001b[43maxis\u001b[49m\u001b[38;5;241;43m=\u001b[39;49m\u001b[43maxis\u001b[49m\u001b[43m)\u001b[49m\n",
      "File \u001b[1;32m~\\anaconda3\\anaconda\\Lib\\site-packages\\pandas\\core\\indexing.py:1699\u001b[0m, in \u001b[0;36m_iLocIndexer._getitem_axis\u001b[1;34m(self, key, axis)\u001b[0m\n\u001b[0;32m   1696\u001b[0m \u001b[38;5;28;01mif\u001b[39;00m \u001b[38;5;28misinstance\u001b[39m(key, \u001b[38;5;28mlist\u001b[39m):\n\u001b[0;32m   1697\u001b[0m     key \u001b[38;5;241m=\u001b[39m np\u001b[38;5;241m.\u001b[39masarray(key)\n\u001b[1;32m-> 1699\u001b[0m \u001b[38;5;28;01mif\u001b[39;00m \u001b[43mcom\u001b[49m\u001b[38;5;241;43m.\u001b[39;49m\u001b[43mis_bool_indexer\u001b[49m\u001b[43m(\u001b[49m\u001b[43mkey\u001b[49m\u001b[43m)\u001b[49m:\n\u001b[0;32m   1700\u001b[0m     \u001b[38;5;28mself\u001b[39m\u001b[38;5;241m.\u001b[39m_validate_key(key, axis)\n\u001b[0;32m   1701\u001b[0m     \u001b[38;5;28;01mreturn\u001b[39;00m \u001b[38;5;28mself\u001b[39m\u001b[38;5;241m.\u001b[39m_getbool_axis(key, axis\u001b[38;5;241m=\u001b[39maxis)\n",
      "File \u001b[1;32m~\\anaconda3\\anaconda\\Lib\\site-packages\\pandas\\core\\common.py:124\u001b[0m, in \u001b[0;36mis_bool_indexer\u001b[1;34m(key)\u001b[0m\n\u001b[0;32m     96\u001b[0m \u001b[38;5;28;01mdef\u001b[39;00m \u001b[38;5;21mis_bool_indexer\u001b[39m(key: Any) \u001b[38;5;241m-\u001b[39m\u001b[38;5;241m>\u001b[39m \u001b[38;5;28mbool\u001b[39m:\n\u001b[0;32m     97\u001b[0m \u001b[38;5;250m    \u001b[39m\u001b[38;5;124;03m\"\"\"\u001b[39;00m\n\u001b[0;32m     98\u001b[0m \u001b[38;5;124;03m    Check whether `key` is a valid boolean indexer.\u001b[39;00m\n\u001b[0;32m     99\u001b[0m \n\u001b[1;32m   (...)\u001b[0m\n\u001b[0;32m    122\u001b[0m \u001b[38;5;124;03m        and convert to an ndarray.\u001b[39;00m\n\u001b[0;32m    123\u001b[0m \u001b[38;5;124;03m    \"\"\"\u001b[39;00m\n\u001b[1;32m--> 124\u001b[0m     \u001b[38;5;28;01mif\u001b[39;00m \u001b[38;5;28misinstance\u001b[39m(key, (ABCSeries, np\u001b[38;5;241m.\u001b[39mndarray, ABCIndex, ABCExtensionArray)):\n\u001b[0;32m    125\u001b[0m         \u001b[38;5;28;01mif\u001b[39;00m key\u001b[38;5;241m.\u001b[39mdtype \u001b[38;5;241m==\u001b[39m np\u001b[38;5;241m.\u001b[39mobject_:\n\u001b[0;32m    126\u001b[0m             key_array \u001b[38;5;241m=\u001b[39m np\u001b[38;5;241m.\u001b[39masarray(key)\n",
      "File \u001b[1;32m~\\anaconda3\\anaconda\\Lib\\site-packages\\pandas\\core\\dtypes\\generic.py:44\u001b[0m, in \u001b[0;36mcreate_pandas_abc_type.<locals>._instancecheck\u001b[1;34m(cls, inst)\u001b[0m\n\u001b[0;32m     42\u001b[0m \u001b[38;5;129m@classmethod\u001b[39m  \u001b[38;5;66;03m# type: ignore[misc]\u001b[39;00m\n\u001b[0;32m     43\u001b[0m \u001b[38;5;28;01mdef\u001b[39;00m \u001b[38;5;21m_instancecheck\u001b[39m(\u001b[38;5;28mcls\u001b[39m, inst) \u001b[38;5;241m-\u001b[39m\u001b[38;5;241m>\u001b[39m \u001b[38;5;28mbool\u001b[39m:\n\u001b[1;32m---> 44\u001b[0m     \u001b[38;5;28;01mreturn\u001b[39;00m \u001b[43m_check\u001b[49m\u001b[43m(\u001b[49m\u001b[43minst\u001b[49m\u001b[43m)\u001b[49m \u001b[38;5;129;01mand\u001b[39;00m \u001b[38;5;129;01mnot\u001b[39;00m \u001b[38;5;28misinstance\u001b[39m(inst, \u001b[38;5;28mtype\u001b[39m)\n",
      "File \u001b[1;32m~\\anaconda3\\anaconda\\Lib\\site-packages\\pandas\\core\\dtypes\\generic.py:37\u001b[0m, in \u001b[0;36mcreate_pandas_abc_type.<locals>._check\u001b[1;34m(inst)\u001b[0m\n\u001b[0;32m     36\u001b[0m \u001b[38;5;28;01mdef\u001b[39;00m \u001b[38;5;21mcreate_pandas_abc_type\u001b[39m(name, attr, comp):\n\u001b[1;32m---> 37\u001b[0m     \u001b[38;5;28;01mdef\u001b[39;00m \u001b[38;5;21m_check\u001b[39m(inst) \u001b[38;5;241m-\u001b[39m\u001b[38;5;241m>\u001b[39m \u001b[38;5;28mbool\u001b[39m:\n\u001b[0;32m     38\u001b[0m         \u001b[38;5;28;01mreturn\u001b[39;00m \u001b[38;5;28mgetattr\u001b[39m(inst, attr, \u001b[38;5;124m\"\u001b[39m\u001b[38;5;124m_typ\u001b[39m\u001b[38;5;124m\"\u001b[39m) \u001b[38;5;129;01min\u001b[39;00m comp\n\u001b[0;32m     40\u001b[0m     \u001b[38;5;66;03m# https://github.com/python/mypy/issues/1006\u001b[39;00m\n\u001b[0;32m     41\u001b[0m     \u001b[38;5;66;03m# error: 'classmethod' used with a non-method\u001b[39;00m\n",
      "\u001b[1;31mKeyboardInterrupt\u001b[0m: "
     ]
    }
   ],
   "source": [
    "def optimize_pnl_calculator(num_simulations, batch_size):\n",
    "    results = pd.DataFrame()\n",
    "    for _ in range(num_simulations):\n",
    "        #sma_short = np.random.randint(1, 1000)  # Example range for SMA short period\n",
    "        #sma_long = np.random.randint(1, 2000)  # Example range for SMA long period\n",
    "        #print('sma_long', sma_long)\n",
    "        #print('sma_short', sma_short)\n",
    "        \n",
    "        target = np.random.randint(5, 50)  # Example range for target\n",
    "        print('target', target)\n",
    "        pnl_calculator = PnlCalulator(target=target)  # Create an instance of PnlCalculator\n",
    "        obj,net_pnl = pnl_calculator.Crossover()  # Assuming crossover_tp is defined in PnlCalculator\n",
    "        print('pnl', net_pnl)\n",
    "        pd.options.mode.chained_assignment = None\n",
    "        results_temp = pd.DataFrame({\n",
    "                             'target': [target],\n",
    "                             'pnl': [net_pnl]},\n",
    "                            index=[0])\n",
    "\n",
    "#         results_temp = pd.DataFrame({'sma_short': sma_short,\n",
    "#                              'sma_long': sma_long,\n",
    "#                              'target': target,\n",
    "#                              'pnl': pnl})\n",
    "#         results_temp= pd.DataFrame(sma_short,sma_long,target,pnl, columns=['sma_short', 'sma_long', 'target', 'pnl'])\n",
    "        results= pd.concat([results,results_temp])\n",
    "#         results = \n",
    "\n",
    "#         results= pd.\n",
    "        results.to_csv('simulations_cso_1.csv', index= False)\n",
    "    return results\n",
    "\n",
    "# Example usage\n",
    "num_simulations = 5000\n",
    "batch_size = 20\n",
    "\n",
    "simulation_results = optimize_pnl_calculator(num_simulations, batch_size)"
   ]
  },
  {
   "cell_type": "code",
   "execution_count": 13,
   "id": "85083172-85b7-423c-a2fe-beb6b9c658ca",
   "metadata": {},
   "outputs": [
    {
     "data": {
      "image/png": "[encoded data removed]",
      "text/plain": [
       "<Figure size 1000x600 with 1 Axes>"
      ]
     },
     "metadata": {},
     "output_type": "display_data"
    }
   ],
   "source": [
    "plt.figure(figsize=(10, 6))\n",
    "plt.plot(obj['cumulative_profit'])\n",
    "plt.title('Cumulative Profit Over Time')\n",
    "plt.xlabel('Index')\n",
    "plt.ylabel('Cumulative Profit')\n",
    "plt.grid(True)\n",
    "plt.show()\n"
   ]
  },
  {
   "cell_type": "code",
   "execution_count": 183,
   "id": "8096a4dc-509f-4695-aba2-801deba36a2d",
   "metadata": {},
   "outputs": [
    {
     "name": "stdout",
     "output_type": "stream",
     "text": [
      "The Mean Drop is: -2.293272338984634\n",
      "The Max Drop is: -11.160881621505373\n"
     ]
    }
   ],
   "source": [
    "data_f = []\n",
    "data_f = pd.DataFrame()\n",
    "data_f['-ve_roe'] = obj['roe_%'].apply(lambda x:  x if x<0 else None)\n",
    "data_f.dropna(axis = 0,inplace = True)\n",
    "mean = data_f['-ve_roe'].mean()\n",
    "max_drop = data_f['-ve_roe'].min()\n",
    "print(\"The Mean Drop is:\",mean)\n",
    "print(\"The Max Drop is:\",max_drop)"
   ]
  },
  {
   "cell_type": "code",
   "execution_count": 184,
   "id": "175a39e9-0b06-4cbc-8365-949d95c02866",
   "metadata": {
    "scrolled": true
   },
   "outputs": [
    {
     "data": {
      "text/html": [
       "<div>\n",
       "<style scoped>\n",
       "    .dataframe tbody tr th:only-of-type {\n",
       "        vertical-align: middle;\n",
       "    }\n",
       "\n",
       "    .dataframe tbody tr th {\n",
       "        vertical-align: top;\n",
       "    }\n",
       "\n",
       "    .dataframe thead th {\n",
       "        text-align: right;\n",
       "    }\n",
       "</style>\n",
       "<table border=\"1\" class=\"dataframe\">\n",
       "  <thead>\n",
       "    <tr style=\"text-align: right;\">\n",
       "      <th></th>\n",
       "      <th>index</th>\n",
       "      <th>entry_timestamp</th>\n",
       "      <th>entry_price</th>\n",
       "      <th>exit_timestamp</th>\n",
       "      <th>exit_price</th>\n",
       "      <th>signal</th>\n",
       "      <th>target_points</th>\n",
       "      <th>remarks</th>\n",
       "      <th>profit_per_btc</th>\n",
       "      <th>capital</th>\n",
       "      <th>#units</th>\n",
       "      <th>profit_per_capital</th>\n",
       "      <th>tnc_cost</th>\n",
       "      <th>profit_after_tnc</th>\n",
       "      <th>cumulative_profit</th>\n",
       "      <th>roe_%</th>\n",
       "    </tr>\n",
       "  </thead>\n",
       "  <tbody>\n",
       "    <tr>\n",
       "      <th>494</th>\n",
       "      <td>637405</td>\n",
       "      <td>2023-08-22 18:45:00</td>\n",
       "      <td>26018.61</td>\n",
       "      <td>2023-08-23 21:42:00</td>\n",
       "      <td>26196.00</td>\n",
       "      <td>2</td>\n",
       "      <td>227.270485</td>\n",
       "      <td>SL_Exit</td>\n",
       "      <td>-177.39</td>\n",
       "      <td>1000</td>\n",
       "      <td>0.038434</td>\n",
       "      <td>-6.817812</td>\n",
       "      <td>1</td>\n",
       "      <td>-7.817812</td>\n",
       "      <td>2870.981358</td>\n",
       "      <td>-0.781781</td>\n",
       "    </tr>\n",
       "    <tr>\n",
       "      <th>495</th>\n",
       "      <td>638097</td>\n",
       "      <td>2023-08-24 05:21:00</td>\n",
       "      <td>26432.00</td>\n",
       "      <td>2023-08-26 04:18:00</td>\n",
       "      <td>26045.83</td>\n",
       "      <td>1</td>\n",
       "      <td>447.780473</td>\n",
       "      <td>Algo_Exit</td>\n",
       "      <td>-386.17</td>\n",
       "      <td>1000</td>\n",
       "      <td>0.037833</td>\n",
       "      <td>-14.609942</td>\n",
       "      <td>1</td>\n",
       "      <td>-15.609942</td>\n",
       "      <td>2855.371416</td>\n",
       "      <td>-1.560994</td>\n",
       "    </tr>\n",
       "    <tr>\n",
       "      <th>496</th>\n",
       "      <td>639037</td>\n",
       "      <td>2023-08-26 04:21:00</td>\n",
       "      <td>26049.62</td>\n",
       "      <td>2023-08-28 09:00:00</td>\n",
       "      <td>26033.15</td>\n",
       "      <td>2</td>\n",
       "      <td>206.236564</td>\n",
       "      <td>Algo_Exit</td>\n",
       "      <td>16.47</td>\n",
       "      <td>1000</td>\n",
       "      <td>0.038388</td>\n",
       "      <td>0.632255</td>\n",
       "      <td>1</td>\n",
       "      <td>-0.367745</td>\n",
       "      <td>2855.00367</td>\n",
       "      <td>-0.036775</td>\n",
       "    </tr>\n",
       "    <tr>\n",
       "      <th>497</th>\n",
       "      <td>640091</td>\n",
       "      <td>2023-08-28 09:03:00</td>\n",
       "      <td>26038.05</td>\n",
       "      <td>2023-08-28 16:00:00</td>\n",
       "      <td>25939.97</td>\n",
       "      <td>1</td>\n",
       "      <td>193.864002</td>\n",
       "      <td>Algo_Exit</td>\n",
       "      <td>-98.08</td>\n",
       "      <td>1000</td>\n",
       "      <td>0.038405</td>\n",
       "      <td>-3.766795</td>\n",
       "      <td>1</td>\n",
       "      <td>-4.766795</td>\n",
       "      <td>2850.236875</td>\n",
       "      <td>-0.47668</td>\n",
       "    </tr>\n",
       "    <tr>\n",
       "      <th>498</th>\n",
       "      <td>640231</td>\n",
       "      <td>2023-08-28 16:03:00</td>\n",
       "      <td>25943.22</td>\n",
       "      <td>2023-08-28 17:54:00</td>\n",
       "      <td>26223.98</td>\n",
       "      <td>2</td>\n",
       "      <td>198.323683</td>\n",
       "      <td>SL_Exit</td>\n",
       "      <td>-280.76</td>\n",
       "      <td>1000</td>\n",
       "      <td>0.038546</td>\n",
       "      <td>-10.822095</td>\n",
       "      <td>1</td>\n",
       "      <td>-11.822095</td>\n",
       "      <td>2838.41478</td>\n",
       "      <td>-1.18221</td>\n",
       "    </tr>\n",
       "    <tr>\n",
       "      <th>499</th>\n",
       "      <td>640276</td>\n",
       "      <td>2023-08-28 18:18:00</td>\n",
       "      <td>26128.57</td>\n",
       "      <td>2023-08-29 18:15:00</td>\n",
       "      <td>26009.14</td>\n",
       "      <td>1</td>\n",
       "      <td>749.218522</td>\n",
       "      <td>Algo_Exit</td>\n",
       "      <td>-119.43</td>\n",
       "      <td>1000</td>\n",
       "      <td>0.038272</td>\n",
       "      <td>-4.570859</td>\n",
       "      <td>1</td>\n",
       "      <td>-5.570859</td>\n",
       "      <td>2832.843921</td>\n",
       "      <td>-0.557086</td>\n",
       "    </tr>\n",
       "    <tr>\n",
       "      <th>500</th>\n",
       "      <td>640756</td>\n",
       "      <td>2023-08-29 18:18:00</td>\n",
       "      <td>26013.43</td>\n",
       "      <td>2023-08-29 19:48:00</td>\n",
       "      <td>26687.87</td>\n",
       "      <td>2</td>\n",
       "      <td>240.270736</td>\n",
       "      <td>SL_Exit</td>\n",
       "      <td>-674.44</td>\n",
       "      <td>1000</td>\n",
       "      <td>0.038442</td>\n",
       "      <td>-25.926608</td>\n",
       "      <td>1</td>\n",
       "      <td>-26.926608</td>\n",
       "      <td>2805.917313</td>\n",
       "      <td>-2.692661</td>\n",
       "    </tr>\n",
       "    <tr>\n",
       "      <th>501</th>\n",
       "      <td>640791</td>\n",
       "      <td>2023-08-29 20:03:00</td>\n",
       "      <td>27382.04</td>\n",
       "      <td>2023-09-01 09:30:00</td>\n",
       "      <td>26078.83</td>\n",
       "      <td>1</td>\n",
       "      <td>2902.618652</td>\n",
       "      <td>Algo_Exit</td>\n",
       "      <td>-1303.21</td>\n",
       "      <td>1000</td>\n",
       "      <td>0.036520</td>\n",
       "      <td>-47.593605</td>\n",
       "      <td>1</td>\n",
       "      <td>-48.593605</td>\n",
       "      <td>2757.323708</td>\n",
       "      <td>-4.859361</td>\n",
       "    </tr>\n",
       "    <tr>\n",
       "      <th>502</th>\n",
       "      <td>642021</td>\n",
       "      <td>2023-09-01 09:33:00</td>\n",
       "      <td>26087.80</td>\n",
       "      <td>2023-09-02 02:00:00</td>\n",
       "      <td>25858.46</td>\n",
       "      <td>2</td>\n",
       "      <td>189.552554</td>\n",
       "      <td>SL_Exit</td>\n",
       "      <td>229.34</td>\n",
       "      <td>1000</td>\n",
       "      <td>0.038332</td>\n",
       "      <td>8.791082</td>\n",
       "      <td>1</td>\n",
       "      <td>7.791082</td>\n",
       "      <td>2765.114791</td>\n",
       "      <td>0.779108</td>\n",
       "    </tr>\n",
       "    <tr>\n",
       "      <th>503</th>\n",
       "      <td>643427</td>\n",
       "      <td>2023-09-04 07:51:00</td>\n",
       "      <td>25914.44</td>\n",
       "      <td>2023-09-05 15:45:00</td>\n",
       "      <td>25775.00</td>\n",
       "      <td>1</td>\n",
       "      <td>160.997628</td>\n",
       "      <td>Algo_Exit</td>\n",
       "      <td>-139.44</td>\n",
       "      <td>1000</td>\n",
       "      <td>0.038589</td>\n",
       "      <td>-5.380784</td>\n",
       "      <td>1</td>\n",
       "      <td>-6.380784</td>\n",
       "      <td>2758.734007</td>\n",
       "      <td>-0.638078</td>\n",
       "    </tr>\n",
       "    <tr>\n",
       "      <th>504</th>\n",
       "      <td>644066</td>\n",
       "      <td>2023-09-05 15:48:00</td>\n",
       "      <td>25770.99</td>\n",
       "      <td>2023-09-08 02:30:00</td>\n",
       "      <td>26030.00</td>\n",
       "      <td>2</td>\n",
       "      <td>307.711228</td>\n",
       "      <td>SL_Exit</td>\n",
       "      <td>-259.01</td>\n",
       "      <td>1000</td>\n",
       "      <td>0.038803</td>\n",
       "      <td>-10.050448</td>\n",
       "      <td>1</td>\n",
       "      <td>-11.050448</td>\n",
       "      <td>2747.683559</td>\n",
       "      <td>-1.105045</td>\n",
       "    </tr>\n",
       "    <tr>\n",
       "      <th>505</th>\n",
       "      <td>645251</td>\n",
       "      <td>2023-09-08 03:03:00</td>\n",
       "      <td>26203.59</td>\n",
       "      <td>2023-09-10 06:12:00</td>\n",
       "      <td>25864.47</td>\n",
       "      <td>1</td>\n",
       "      <td>1517.44559</td>\n",
       "      <td>Algo_Exit</td>\n",
       "      <td>-339.12</td>\n",
       "      <td>1000</td>\n",
       "      <td>0.038163</td>\n",
       "      <td>-12.941738</td>\n",
       "      <td>1</td>\n",
       "      <td>-13.941738</td>\n",
       "      <td>2733.741821</td>\n",
       "      <td>-1.394174</td>\n",
       "    </tr>\n",
       "    <tr>\n",
       "      <th>506</th>\n",
       "      <td>646275</td>\n",
       "      <td>2023-09-10 06:15:00</td>\n",
       "      <td>25864.46</td>\n",
       "      <td>2023-09-11 04:00:00</td>\n",
       "      <td>26023.44</td>\n",
       "      <td>2</td>\n",
       "      <td>99.163098</td>\n",
       "      <td>SL_Exit</td>\n",
       "      <td>-158.98</td>\n",
       "      <td>1000</td>\n",
       "      <td>0.038663</td>\n",
       "      <td>-6.146658</td>\n",
       "      <td>1</td>\n",
       "      <td>-7.146658</td>\n",
       "      <td>2726.595162</td>\n",
       "      <td>-0.714666</td>\n",
       "    </tr>\n",
       "    <tr>\n",
       "      <th>507</th>\n",
       "      <td>647920</td>\n",
       "      <td>2023-09-13 16:30:00</td>\n",
       "      <td>26140.01</td>\n",
       "      <td>2023-09-17 12:24:00</td>\n",
       "      <td>26545.42</td>\n",
       "      <td>1</td>\n",
       "      <td>558.489364</td>\n",
       "      <td>Algo_Exit</td>\n",
       "      <td>405.41</td>\n",
       "      <td>1000</td>\n",
       "      <td>0.038256</td>\n",
       "      <td>15.509175</td>\n",
       "      <td>1</td>\n",
       "      <td>14.509175</td>\n",
       "      <td>2741.104338</td>\n",
       "      <td>1.450918</td>\n",
       "    </tr>\n",
       "    <tr>\n",
       "      <th>508</th>\n",
       "      <td>649759</td>\n",
       "      <td>2023-09-17 12:27:00</td>\n",
       "      <td>26545.41</td>\n",
       "      <td>2023-09-17 16:54:00</td>\n",
       "      <td>26596.75</td>\n",
       "      <td>2</td>\n",
       "      <td>99.300205</td>\n",
       "      <td>Algo_Exit</td>\n",
       "      <td>-51.34</td>\n",
       "      <td>1000</td>\n",
       "      <td>0.037671</td>\n",
       "      <td>-1.934044</td>\n",
       "      <td>1</td>\n",
       "      <td>-2.934044</td>\n",
       "      <td>2738.170293</td>\n",
       "      <td>-0.293404</td>\n",
       "    </tr>\n",
       "    <tr>\n",
       "      <th>509</th>\n",
       "      <td>649849</td>\n",
       "      <td>2023-09-17 16:57:00</td>\n",
       "      <td>26594.54</td>\n",
       "      <td>2023-09-18 05:30:00</td>\n",
       "      <td>26529.40</td>\n",
       "      <td>1</td>\n",
       "      <td>113.867725</td>\n",
       "      <td>Algo_Exit</td>\n",
       "      <td>-65.14</td>\n",
       "      <td>1000</td>\n",
       "      <td>0.037602</td>\n",
       "      <td>-2.449375</td>\n",
       "      <td>1</td>\n",
       "      <td>-3.449375</td>\n",
       "      <td>2734.720918</td>\n",
       "      <td>-0.344937</td>\n",
       "    </tr>\n",
       "    <tr>\n",
       "      <th>510</th>\n",
       "      <td>650101</td>\n",
       "      <td>2023-09-18 05:33:00</td>\n",
       "      <td>26531.51</td>\n",
       "      <td>2023-09-18 07:36:00</td>\n",
       "      <td>26495.00</td>\n",
       "      <td>2</td>\n",
       "      <td>209.604243</td>\n",
       "      <td>Algo_Exit</td>\n",
       "      <td>36.51</td>\n",
       "      <td>1000</td>\n",
       "      <td>0.037691</td>\n",
       "      <td>1.3761</td>\n",
       "      <td>1</td>\n",
       "      <td>0.3761</td>\n",
       "      <td>2735.097018</td>\n",
       "      <td>0.03761</td>\n",
       "    </tr>\n",
       "    <tr>\n",
       "      <th>511</th>\n",
       "      <td>650143</td>\n",
       "      <td>2023-09-18 07:39:00</td>\n",
       "      <td>26496.86</td>\n",
       "      <td>2023-09-22 00:21:00</td>\n",
       "      <td>26613.85</td>\n",
       "      <td>1</td>\n",
       "      <td>321.310968</td>\n",
       "      <td>Algo_Exit</td>\n",
       "      <td>116.99</td>\n",
       "      <td>1000</td>\n",
       "      <td>0.037740</td>\n",
       "      <td>4.41524</td>\n",
       "      <td>1</td>\n",
       "      <td>3.41524</td>\n",
       "      <td>2738.512258</td>\n",
       "      <td>0.341524</td>\n",
       "    </tr>\n",
       "    <tr>\n",
       "      <th>512</th>\n",
       "      <td>651918</td>\n",
       "      <td>2023-09-22 00:24:00</td>\n",
       "      <td>26627.97</td>\n",
       "      <td>2023-09-25 21:48:00</td>\n",
       "      <td>26375.41</td>\n",
       "      <td>2</td>\n",
       "      <td>306.820976</td>\n",
       "      <td>SL_Exit</td>\n",
       "      <td>252.56</td>\n",
       "      <td>1000</td>\n",
       "      <td>0.037554</td>\n",
       "      <td>9.484764</td>\n",
       "      <td>1</td>\n",
       "      <td>8.484764</td>\n",
       "      <td>2746.997022</td>\n",
       "      <td>0.848476</td>\n",
       "    </tr>\n",
       "    <tr>\n",
       "      <th>513</th>\n",
       "      <td>654780</td>\n",
       "      <td>2023-09-27 23:30:00</td>\n",
       "      <td>26197.42</td>\n",
       "      <td>2023-10-04 13:45:00</td>\n",
       "      <td>27437.35</td>\n",
       "      <td>1</td>\n",
       "      <td>441.468633</td>\n",
       "      <td>Algo_Exit</td>\n",
       "      <td>1239.93</td>\n",
       "      <td>1000</td>\n",
       "      <td>0.038172</td>\n",
       "      <td>47.330233</td>\n",
       "      <td>1</td>\n",
       "      <td>46.330233</td>\n",
       "      <td>2793.327255</td>\n",
       "      <td>4.633023</td>\n",
       "    </tr>\n",
       "    <tr>\n",
       "      <th>514</th>\n",
       "      <td>657946</td>\n",
       "      <td>2023-10-04 13:48:00</td>\n",
       "      <td>27438.93</td>\n",
       "      <td>2023-10-04 15:27:00</td>\n",
       "      <td>27630.00</td>\n",
       "      <td>2</td>\n",
       "      <td>193.002829</td>\n",
       "      <td>SL_Exit</td>\n",
       "      <td>-191.07</td>\n",
       "      <td>1000</td>\n",
       "      <td>0.036445</td>\n",
       "      <td>-6.963464</td>\n",
       "      <td>1</td>\n",
       "      <td>-7.963464</td>\n",
       "      <td>2785.363791</td>\n",
       "      <td>-0.796346</td>\n",
       "    </tr>\n",
       "    <tr>\n",
       "      <th>515</th>\n",
       "      <td>658624</td>\n",
       "      <td>2023-10-05 23:42:00</td>\n",
       "      <td>27477.48</td>\n",
       "      <td>2023-10-09 18:09:00</td>\n",
       "      <td>27507.21</td>\n",
       "      <td>1</td>\n",
       "      <td>745.58545</td>\n",
       "      <td>Algo_Exit</td>\n",
       "      <td>29.73</td>\n",
       "      <td>1000</td>\n",
       "      <td>0.036393</td>\n",
       "      <td>1.081977</td>\n",
       "      <td>1</td>\n",
       "      <td>0.081977</td>\n",
       "      <td>2785.445768</td>\n",
       "      <td>0.008198</td>\n",
       "    </tr>\n",
       "    <tr>\n",
       "      <th>516</th>\n",
       "      <td>660434</td>\n",
       "      <td>2023-10-09 18:12:00</td>\n",
       "      <td>27476.01</td>\n",
       "      <td>2023-10-14 18:54:00</td>\n",
       "      <td>26894.15</td>\n",
       "      <td>2</td>\n",
       "      <td>764.82306</td>\n",
       "      <td>Algo_Exit</td>\n",
       "      <td>581.86</td>\n",
       "      <td>1000</td>\n",
       "      <td>0.036395</td>\n",
       "      <td>21.17702</td>\n",
       "      <td>1</td>\n",
       "      <td>20.17702</td>\n",
       "      <td>2805.622787</td>\n",
       "      <td>2.017702</td>\n",
       "    </tr>\n",
       "    <tr>\n",
       "      <th>517</th>\n",
       "      <td>662849</td>\n",
       "      <td>2023-10-14 18:57:00</td>\n",
       "      <td>26885.18</td>\n",
       "      <td>2023-10-28 00:06:00</td>\n",
       "      <td>33543.48</td>\n",
       "      <td>1</td>\n",
       "      <td>111.642606</td>\n",
       "      <td>Algo_Exit</td>\n",
       "      <td>6658.3</td>\n",
       "      <td>1000</td>\n",
       "      <td>0.037195</td>\n",
       "      <td>247.656888</td>\n",
       "      <td>1</td>\n",
       "      <td>246.656888</td>\n",
       "      <td>3052.279675</td>\n",
       "      <td>24.665689</td>\n",
       "    </tr>\n",
       "    <tr>\n",
       "      <th>518</th>\n",
       "      <td>669193</td>\n",
       "      <td>2023-10-28 00:09:00</td>\n",
       "      <td>33604.98</td>\n",
       "      <td>2023-10-29 19:21:00</td>\n",
       "      <td>34365.99</td>\n",
       "      <td>2</td>\n",
       "      <td>1288.925177</td>\n",
       "      <td>Algo_Exit</td>\n",
       "      <td>-761.01</td>\n",
       "      <td>1000</td>\n",
       "      <td>0.029757</td>\n",
       "      <td>-22.645751</td>\n",
       "      <td>1</td>\n",
       "      <td>-23.645751</td>\n",
       "      <td>3028.633924</td>\n",
       "      <td>-2.364575</td>\n",
       "    </tr>\n",
       "    <tr>\n",
       "      <th>519</th>\n",
       "      <td>670058</td>\n",
       "      <td>2023-10-29 19:24:00</td>\n",
       "      <td>34364.00</td>\n",
       "      <td>2023-11-01 15:06:00</td>\n",
       "      <td>34473.23</td>\n",
       "      <td>1</td>\n",
       "      <td>737.718546</td>\n",
       "      <td>Algo_Exit</td>\n",
       "      <td>109.23</td>\n",
       "      <td>1000</td>\n",
       "      <td>0.029100</td>\n",
       "      <td>3.178617</td>\n",
       "      <td>1</td>\n",
       "      <td>2.178617</td>\n",
       "      <td>3030.812541</td>\n",
       "      <td>0.217862</td>\n",
       "    </tr>\n",
       "    <tr>\n",
       "      <th>520</th>\n",
       "      <td>671413</td>\n",
       "      <td>2023-11-01 15:09:00</td>\n",
       "      <td>34466.34</td>\n",
       "      <td>2023-11-01 18:24:00</td>\n",
       "      <td>34842.09</td>\n",
       "      <td>2</td>\n",
       "      <td>312.90278</td>\n",
       "      <td>SL_Exit</td>\n",
       "      <td>-375.75</td>\n",
       "      <td>1000</td>\n",
       "      <td>0.029014</td>\n",
       "      <td>-10.901941</td>\n",
       "      <td>1</td>\n",
       "      <td>-11.901941</td>\n",
       "      <td>3018.9106</td>\n",
       "      <td>-1.190194</td>\n",
       "    </tr>\n",
       "    <tr>\n",
       "      <th>521</th>\n",
       "      <td>671670</td>\n",
       "      <td>2023-11-02 04:00:00</td>\n",
       "      <td>35298.10</td>\n",
       "      <td>2023-11-04 06:09:00</td>\n",
       "      <td>34686.72</td>\n",
       "      <td>1</td>\n",
       "      <td>1847.896707</td>\n",
       "      <td>Algo_Exit</td>\n",
       "      <td>-611.38</td>\n",
       "      <td>1000</td>\n",
       "      <td>0.028330</td>\n",
       "      <td>-17.320479</td>\n",
       "      <td>1</td>\n",
       "      <td>-18.320479</td>\n",
       "      <td>3000.590121</td>\n",
       "      <td>-1.832048</td>\n",
       "    </tr>\n",
       "    <tr>\n",
       "      <th>522</th>\n",
       "      <td>672674</td>\n",
       "      <td>2023-11-04 06:12:00</td>\n",
       "      <td>34689.99</td>\n",
       "      <td>2023-11-05 04:21:00</td>\n",
       "      <td>35107.81</td>\n",
       "      <td>2</td>\n",
       "      <td>438.536441</td>\n",
       "      <td>SL_Exit</td>\n",
       "      <td>-417.82</td>\n",
       "      <td>1000</td>\n",
       "      <td>0.028827</td>\n",
       "      <td>-12.044397</td>\n",
       "      <td>1</td>\n",
       "      <td>-13.044397</td>\n",
       "      <td>2987.545725</td>\n",
       "      <td>-1.30444</td>\n",
       "    </tr>\n",
       "    <tr>\n",
       "      <th>523</th>\n",
       "      <td>673317</td>\n",
       "      <td>2023-11-05 14:21:00</td>\n",
       "      <td>35037.26</td>\n",
       "      <td>2023-11-07 19:24:00</td>\n",
       "      <td>34747.09</td>\n",
       "      <td>1</td>\n",
       "      <td>532.313805</td>\n",
       "      <td>Algo_Exit</td>\n",
       "      <td>-290.17</td>\n",
       "      <td>1000</td>\n",
       "      <td>0.028541</td>\n",
       "      <td>-8.281755</td>\n",
       "      <td>1</td>\n",
       "      <td>-9.281755</td>\n",
       "      <td>2978.26397</td>\n",
       "      <td>-0.928175</td>\n",
       "    </tr>\n",
       "    <tr>\n",
       "      <th>524</th>\n",
       "      <td>674379</td>\n",
       "      <td>2023-11-07 19:27:00</td>\n",
       "      <td>34780.01</td>\n",
       "      <td>2023-11-07 23:45:00</td>\n",
       "      <td>35342.67</td>\n",
       "      <td>2</td>\n",
       "      <td>632.139971</td>\n",
       "      <td>SL_Exit</td>\n",
       "      <td>-562.66</td>\n",
       "      <td>1000</td>\n",
       "      <td>0.028752</td>\n",
       "      <td>-16.177684</td>\n",
       "      <td>1</td>\n",
       "      <td>-17.177684</td>\n",
       "      <td>2961.086286</td>\n",
       "      <td>-1.717768</td>\n",
       "    </tr>\n",
       "    <tr>\n",
       "      <th>525</th>\n",
       "      <td>674623</td>\n",
       "      <td>2023-11-08 07:39:00</td>\n",
       "      <td>35373.54</td>\n",
       "      <td>2023-11-13 15:27:00</td>\n",
       "      <td>36987.48</td>\n",
       "      <td>1</td>\n",
       "      <td>382.98699</td>\n",
       "      <td>Algo_Exit</td>\n",
       "      <td>1613.94</td>\n",
       "      <td>1000</td>\n",
       "      <td>0.028270</td>\n",
       "      <td>45.625629</td>\n",
       "      <td>1</td>\n",
       "      <td>44.625629</td>\n",
       "      <td>3005.711915</td>\n",
       "      <td>4.462563</td>\n",
       "    </tr>\n",
       "    <tr>\n",
       "      <th>526</th>\n",
       "      <td>677180</td>\n",
       "      <td>2023-11-13 15:30:00</td>\n",
       "      <td>36983.98</td>\n",
       "      <td>2023-11-14 11:42:00</td>\n",
       "      <td>36652.01</td>\n",
       "      <td>2</td>\n",
       "      <td>360.366603</td>\n",
       "      <td>SL_Exit</td>\n",
       "      <td>331.97</td>\n",
       "      <td>1000</td>\n",
       "      <td>0.027039</td>\n",
       "      <td>8.976049</td>\n",
       "      <td>1</td>\n",
       "      <td>7.976049</td>\n",
       "      <td>3013.687963</td>\n",
       "      <td>0.797605</td>\n",
       "    </tr>\n",
       "    <tr>\n",
       "      <th>527</th>\n",
       "      <td>678711</td>\n",
       "      <td>2023-11-16 20:03:00</td>\n",
       "      <td>36695.99</td>\n",
       "      <td>2023-11-18 07:33:00</td>\n",
       "      <td>36414.00</td>\n",
       "      <td>1</td>\n",
       "      <td>1948.230712</td>\n",
       "      <td>Algo_Exit</td>\n",
       "      <td>-281.99</td>\n",
       "      <td>1000</td>\n",
       "      <td>0.027251</td>\n",
       "      <td>-7.684491</td>\n",
       "      <td>1</td>\n",
       "      <td>-8.684491</td>\n",
       "      <td>3005.003473</td>\n",
       "      <td>-0.868449</td>\n",
       "    </tr>\n",
       "    <tr>\n",
       "      <th>528</th>\n",
       "      <td>679422</td>\n",
       "      <td>2023-11-18 07:36:00</td>\n",
       "      <td>36414.00</td>\n",
       "      <td>2023-11-19 16:48:00</td>\n",
       "      <td>36440.64</td>\n",
       "      <td>2</td>\n",
       "      <td>440.542509</td>\n",
       "      <td>Algo_Exit</td>\n",
       "      <td>-26.64</td>\n",
       "      <td>1000</td>\n",
       "      <td>0.027462</td>\n",
       "      <td>-0.731587</td>\n",
       "      <td>1</td>\n",
       "      <td>-1.731587</td>\n",
       "      <td>3003.271886</td>\n",
       "      <td>-0.173159</td>\n",
       "    </tr>\n",
       "    <tr>\n",
       "      <th>529</th>\n",
       "      <td>680087</td>\n",
       "      <td>2023-11-19 16:51:00</td>\n",
       "      <td>36397.80</td>\n",
       "      <td>2023-11-22 17:48:00</td>\n",
       "      <td>36521.14</td>\n",
       "      <td>1</td>\n",
       "      <td>402.114092</td>\n",
       "      <td>Algo_Exit</td>\n",
       "      <td>123.34</td>\n",
       "      <td>1000</td>\n",
       "      <td>0.027474</td>\n",
       "      <td>3.388666</td>\n",
       "      <td>1</td>\n",
       "      <td>2.388666</td>\n",
       "      <td>3005.660552</td>\n",
       "      <td>0.238867</td>\n",
       "    </tr>\n",
       "    <tr>\n",
       "      <th>530</th>\n",
       "      <td>681547</td>\n",
       "      <td>2023-11-22 17:51:00</td>\n",
       "      <td>36539.00</td>\n",
       "      <td>2023-11-23 00:00:00</td>\n",
       "      <td>37144.64</td>\n",
       "      <td>2</td>\n",
       "      <td>642.479881</td>\n",
       "      <td>SL_Exit</td>\n",
       "      <td>-605.64</td>\n",
       "      <td>1000</td>\n",
       "      <td>0.027368</td>\n",
       "      <td>-16.575166</td>\n",
       "      <td>1</td>\n",
       "      <td>-17.575166</td>\n",
       "      <td>2988.085386</td>\n",
       "      <td>-1.757517</td>\n",
       "    </tr>\n",
       "    <tr>\n",
       "      <th>531</th>\n",
       "      <td>682242</td>\n",
       "      <td>2023-11-24 04:36:00</td>\n",
       "      <td>37369.12</td>\n",
       "      <td>2023-11-27 07:09:00</td>\n",
       "      <td>37486.66</td>\n",
       "      <td>1</td>\n",
       "      <td>435.85287</td>\n",
       "      <td>Algo_Exit</td>\n",
       "      <td>117.54</td>\n",
       "      <td>1000</td>\n",
       "      <td>0.026760</td>\n",
       "      <td>3.145378</td>\n",
       "      <td>1</td>\n",
       "      <td>2.145378</td>\n",
       "      <td>2990.230764</td>\n",
       "      <td>0.214538</td>\n",
       "    </tr>\n",
       "    <tr>\n",
       "      <th>532</th>\n",
       "      <td>683734</td>\n",
       "      <td>2023-11-27 07:12:00</td>\n",
       "      <td>37481.21</td>\n",
       "      <td>2023-11-28 22:48:00</td>\n",
       "      <td>38063.56</td>\n",
       "      <td>2</td>\n",
       "      <td>509.07705</td>\n",
       "      <td>SL_Exit</td>\n",
       "      <td>-582.35</td>\n",
       "      <td>1000</td>\n",
       "      <td>0.026680</td>\n",
       "      <td>-15.537118</td>\n",
       "      <td>1</td>\n",
       "      <td>-16.537118</td>\n",
       "      <td>2973.693645</td>\n",
       "      <td>-1.653712</td>\n",
       "    </tr>\n",
       "    <tr>\n",
       "      <th>533</th>\n",
       "      <td>684839</td>\n",
       "      <td>2023-11-29 14:27:00</td>\n",
       "      <td>38338.00</td>\n",
       "      <td>2023-12-08 20:00:00</td>\n",
       "      <td>43684.54</td>\n",
       "      <td>1</td>\n",
       "      <td>886.36793</td>\n",
       "      <td>Algo_Exit</td>\n",
       "      <td>5346.54</td>\n",
       "      <td>1000</td>\n",
       "      <td>0.026084</td>\n",
       "      <td>139.457979</td>\n",
       "      <td>1</td>\n",
       "      <td>138.457979</td>\n",
       "      <td>3112.151624</td>\n",
       "      <td>13.845798</td>\n",
       "    </tr>\n",
       "    <tr>\n",
       "      <th>534</th>\n",
       "      <td>689271</td>\n",
       "      <td>2023-12-08 20:03:00</td>\n",
       "      <td>43760.02</td>\n",
       "      <td>2023-12-09 19:57:00</td>\n",
       "      <td>44044.02</td>\n",
       "      <td>2</td>\n",
       "      <td>1355.491488</td>\n",
       "      <td>Algo_Exit</td>\n",
       "      <td>-284.0</td>\n",
       "      <td>1000</td>\n",
       "      <td>0.022852</td>\n",
       "      <td>-6.489942</td>\n",
       "      <td>1</td>\n",
       "      <td>-7.489942</td>\n",
       "      <td>3104.661682</td>\n",
       "      <td>-0.748994</td>\n",
       "    </tr>\n",
       "    <tr>\n",
       "      <th>535</th>\n",
       "      <td>689750</td>\n",
       "      <td>2023-12-09 20:00:00</td>\n",
       "      <td>43996.25</td>\n",
       "      <td>2023-12-11 08:45:00</td>\n",
       "      <td>42155.79</td>\n",
       "      <td>1</td>\n",
       "      <td>724.058706</td>\n",
       "      <td>Algo_Exit</td>\n",
       "      <td>-1840.46</td>\n",
       "      <td>1000</td>\n",
       "      <td>0.022729</td>\n",
       "      <td>-41.832202</td>\n",
       "      <td>1</td>\n",
       "      <td>-42.832202</td>\n",
       "      <td>3061.82948</td>\n",
       "      <td>-4.28322</td>\n",
       "    </tr>\n",
       "    <tr>\n",
       "      <th>536</th>\n",
       "      <td>690486</td>\n",
       "      <td>2023-12-11 08:48:00</td>\n",
       "      <td>42161.49</td>\n",
       "      <td>2023-12-12 05:48:00</td>\n",
       "      <td>41383.62</td>\n",
       "      <td>2</td>\n",
       "      <td>3554.153454</td>\n",
       "      <td>SL_Exit</td>\n",
       "      <td>777.87</td>\n",
       "      <td>1000</td>\n",
       "      <td>0.023718</td>\n",
       "      <td>18.449775</td>\n",
       "      <td>1</td>\n",
       "      <td>17.449775</td>\n",
       "      <td>3079.279255</td>\n",
       "      <td>1.744977</td>\n",
       "    </tr>\n",
       "    <tr>\n",
       "      <th>537</th>\n",
       "      <td>692000</td>\n",
       "      <td>2023-12-14 12:30:00</td>\n",
       "      <td>42902.58</td>\n",
       "      <td>2023-12-16 18:45:00</td>\n",
       "      <td>42451.49</td>\n",
       "      <td>1</td>\n",
       "      <td>842.753979</td>\n",
       "      <td>Algo_Exit</td>\n",
       "      <td>-451.09</td>\n",
       "      <td>1000</td>\n",
       "      <td>0.023309</td>\n",
       "      <td>-10.514286</td>\n",
       "      <td>1</td>\n",
       "      <td>-11.514286</td>\n",
       "      <td>3067.764969</td>\n",
       "      <td>-1.151429</td>\n",
       "    </tr>\n",
       "    <tr>\n",
       "      <th>538</th>\n",
       "      <td>693086</td>\n",
       "      <td>2023-12-16 18:48:00</td>\n",
       "      <td>42438.57</td>\n",
       "      <td>2023-12-18 20:03:00</td>\n",
       "      <td>41655.99</td>\n",
       "      <td>2</td>\n",
       "      <td>740.654508</td>\n",
       "      <td>SL_Exit</td>\n",
       "      <td>782.58</td>\n",
       "      <td>1000</td>\n",
       "      <td>0.023563</td>\n",
       "      <td>18.440301</td>\n",
       "      <td>1</td>\n",
       "      <td>17.440301</td>\n",
       "      <td>3085.20527</td>\n",
       "      <td>1.74403</td>\n",
       "    </tr>\n",
       "    <tr>\n",
       "      <th>539</th>\n",
       "      <td>694656</td>\n",
       "      <td>2023-12-20 01:18:00</td>\n",
       "      <td>42215.24</td>\n",
       "      <td>2023-12-23 22:45:00</td>\n",
       "      <td>43794.81</td>\n",
       "      <td>1</td>\n",
       "      <td>1244.002741</td>\n",
       "      <td>Algo_Exit</td>\n",
       "      <td>1579.57</td>\n",
       "      <td>1000</td>\n",
       "      <td>0.023688</td>\n",
       "      <td>37.417056</td>\n",
       "      <td>1</td>\n",
       "      <td>36.417056</td>\n",
       "      <td>3121.622326</td>\n",
       "      <td>3.641706</td>\n",
       "    </tr>\n",
       "    <tr>\n",
       "      <th>540</th>\n",
       "      <td>696526</td>\n",
       "      <td>2023-12-23 22:48:00</td>\n",
       "      <td>43791.10</td>\n",
       "      <td>2023-12-24 01:15:00</td>\n",
       "      <td>43720.05</td>\n",
       "      <td>2</td>\n",
       "      <td>373.708635</td>\n",
       "      <td>Algo_Exit</td>\n",
       "      <td>71.05</td>\n",
       "      <td>1000</td>\n",
       "      <td>0.022836</td>\n",
       "      <td>1.622476</td>\n",
       "      <td>1</td>\n",
       "      <td>0.622476</td>\n",
       "      <td>3122.244802</td>\n",
       "      <td>0.062248</td>\n",
       "    </tr>\n",
       "    <tr>\n",
       "      <th>541</th>\n",
       "      <td>696577</td>\n",
       "      <td>2023-12-24 01:21:00</td>\n",
       "      <td>43722.28</td>\n",
       "      <td>2023-12-25 11:57:00</td>\n",
       "      <td>43335.12</td>\n",
       "      <td>2</td>\n",
       "      <td>507.684468</td>\n",
       "      <td>SL_Exit</td>\n",
       "      <td>387.16</td>\n",
       "      <td>1000</td>\n",
       "      <td>0.022872</td>\n",
       "      <td>8.854982</td>\n",
       "      <td>1</td>\n",
       "      <td>7.854982</td>\n",
       "      <td>3130.099784</td>\n",
       "      <td>0.785498</td>\n",
       "    </tr>\n",
       "    <tr>\n",
       "      <th>542</th>\n",
       "      <td>698970</td>\n",
       "      <td>2023-12-29 01:00:00</td>\n",
       "      <td>42575.30</td>\n",
       "      <td>2023-12-30 01:39:00</td>\n",
       "      <td>42042.34</td>\n",
       "      <td>1</td>\n",
       "      <td>986.919923</td>\n",
       "      <td>Algo_Exit</td>\n",
       "      <td>-532.96</td>\n",
       "      <td>1000</td>\n",
       "      <td>0.023488</td>\n",
       "      <td>-12.518056</td>\n",
       "      <td>1</td>\n",
       "      <td>-13.518056</td>\n",
       "      <td>3116.581728</td>\n",
       "      <td>-1.351806</td>\n",
       "    </tr>\n",
       "    <tr>\n",
       "      <th>543</th>\n",
       "      <td>699464</td>\n",
       "      <td>2023-12-30 01:42:00</td>\n",
       "      <td>42083.45</td>\n",
       "      <td>None</td>\n",
       "      <td>NaN</td>\n",
       "      <td>2</td>\n",
       "      <td>931.780742</td>\n",
       "      <td>None</td>\n",
       "      <td>NaN</td>\n",
       "      <td>1000</td>\n",
       "      <td>0.023762</td>\n",
       "      <td>NaN</td>\n",
       "      <td>1</td>\n",
       "      <td>NaN</td>\n",
       "      <td>NaN</td>\n",
       "      <td>NaN</td>\n",
       "    </tr>\n",
       "  </tbody>\n",
       "</table>\n",
       "</div>"
      ],
      "text/plain": [
       "      index      entry_timestamp  entry_price       exit_timestamp  \\\n",
       "494  637405  2023-08-22 18:45:00     26018.61  2023-08-23 21:42:00   \n",
       "495  638097  2023-08-24 05:21:00     26432.00  2023-08-26 04:18:00   \n",
       "496  639037  2023-08-26 04:21:00     26049.62  2023-08-28 09:00:00   \n",
       "497  640091  2023-08-28 09:03:00     26038.05  2023-08-28 16:00:00   \n",
       "498  640231  2023-08-28 16:03:00     25943.22  2023-08-28 17:54:00   \n",
       "499  640276  2023-08-28 18:18:00     26128.57  2023-08-29 18:15:00   \n",
       "500  640756  2023-08-29 18:18:00     26013.43  2023-08-29 19:48:00   \n",
       "501  640791  2023-08-29 20:03:00     27382.04  2023-09-01 09:30:00   \n",
       "502  642021  2023-09-01 09:33:00     26087.80  2023-09-02 02:00:00   \n",
       "503  643427  2023-09-04 07:51:00     25914.44  2023-09-05 15:45:00   \n",
       "504  644066  2023-09-05 15:48:00     25770.99  2023-09-08 02:30:00   \n",
       "505  645251  2023-09-08 03:03:00     26203.59  2023-09-10 06:12:00   \n",
       "506  646275  2023-09-10 06:15:00     25864.46  2023-09-11 04:00:00   \n",
       "507  647920  2023-09-13 16:30:00     26140.01  2023-09-17 12:24:00   \n",
       "508  649759  2023-09-17 12:27:00     26545.41  2023-09-17 16:54:00   \n",
       "509  649849  2023-09-17 16:57:00     26594.54  2023-09-18 05:30:00   \n",
       "510  650101  2023-09-18 05:33:00     26531.51  2023-09-18 07:36:00   \n",
       "511  650143  2023-09-18 07:39:00     26496.86  2023-09-22 00:21:00   \n",
       "512  651918  2023-09-22 00:24:00     26627.97  2023-09-25 21:48:00   \n",
       "513  654780  2023-09-27 23:30:00     26197.42  2023-10-04 13:45:00   \n",
       "514  657946  2023-10-04 13:48:00     27438.93  2023-10-04 15:27:00   \n",
       "515  658624  2023-10-05 23:42:00     27477.48  2023-10-09 18:09:00   \n",
       "516  660434  2023-10-09 18:12:00     27476.01  2023-10-14 18:54:00   \n",
       "517  662849  2023-10-14 18:57:00     26885.18  2023-10-28 00:06:00   \n",
       "518  669193  2023-10-28 00:09:00     33604.98  2023-10-29 19:21:00   \n",
       "519  670058  2023-10-29 19:24:00     34364.00  2023-11-01 15:06:00   \n",
       "520  671413  2023-11-01 15:09:00     34466.34  2023-11-01 18:24:00   \n",
       "521  671670  2023-11-02 04:00:00     35298.10  2023-11-04 06:09:00   \n",
       "522  672674  2023-11-04 06:12:00     34689.99  2023-11-05 04:21:00   \n",
       "523  673317  2023-11-05 14:21:00     35037.26  2023-11-07 19:24:00   \n",
       "524  674379  2023-11-07 19:27:00     34780.01  2023-11-07 23:45:00   \n",
       "525  674623  2023-11-08 07:39:00     35373.54  2023-11-13 15:27:00   \n",
       "526  677180  2023-11-13 15:30:00     36983.98  2023-11-14 11:42:00   \n",
       "527  678711  2023-11-16 20:03:00     36695.99  2023-11-18 07:33:00   \n",
       "528  679422  2023-11-18 07:36:00     36414.00  2023-11-19 16:48:00   \n",
       "529  680087  2023-11-19 16:51:00     36397.80  2023-11-22 17:48:00   \n",
       "530  681547  2023-11-22 17:51:00     36539.00  2023-11-23 00:00:00   \n",
       "531  682242  2023-11-24 04:36:00     37369.12  2023-11-27 07:09:00   \n",
       "532  683734  2023-11-27 07:12:00     37481.21  2023-11-28 22:48:00   \n",
       "533  684839  2023-11-29 14:27:00     38338.00  2023-12-08 20:00:00   \n",
       "534  689271  2023-12-08 20:03:00     43760.02  2023-12-09 19:57:00   \n",
       "535  689750  2023-12-09 20:00:00     43996.25  2023-12-11 08:45:00   \n",
       "536  690486  2023-12-11 08:48:00     42161.49  2023-12-12 05:48:00   \n",
       "537  692000  2023-12-14 12:30:00     42902.58  2023-12-16 18:45:00   \n",
       "538  693086  2023-12-16 18:48:00     42438.57  2023-12-18 20:03:00   \n",
       "539  694656  2023-12-20 01:18:00     42215.24  2023-12-23 22:45:00   \n",
       "540  696526  2023-12-23 22:48:00     43791.10  2023-12-24 01:15:00   \n",
       "541  696577  2023-12-24 01:21:00     43722.28  2023-12-25 11:57:00   \n",
       "542  698970  2023-12-29 01:00:00     42575.30  2023-12-30 01:39:00   \n",
       "543  699464  2023-12-30 01:42:00     42083.45                 None   \n",
       "\n",
       "     exit_price  signal target_points    remarks profit_per_btc  capital  \\\n",
       "494    26196.00       2    227.270485    SL_Exit        -177.39     1000   \n",
       "495    26045.83       1    447.780473  Algo_Exit        -386.17     1000   \n",
       "496    26033.15       2    206.236564  Algo_Exit          16.47     1000   \n",
       "497    25939.97       1    193.864002  Algo_Exit         -98.08     1000   \n",
       "498    26223.98       2    198.323683    SL_Exit        -280.76     1000   \n",
       "499    26009.14       1    749.218522  Algo_Exit        -119.43     1000   \n",
       "500    26687.87       2    240.270736    SL_Exit        -674.44     1000   \n",
       "501    26078.83       1   2902.618652  Algo_Exit       -1303.21     1000   \n",
       "502    25858.46       2    189.552554    SL_Exit         229.34     1000   \n",
       "503    25775.00       1    160.997628  Algo_Exit        -139.44     1000   \n",
       "504    26030.00       2    307.711228    SL_Exit        -259.01     1000   \n",
       "505    25864.47       1    1517.44559  Algo_Exit        -339.12     1000   \n",
       "506    26023.44       2     99.163098    SL_Exit        -158.98     1000   \n",
       "507    26545.42       1    558.489364  Algo_Exit         405.41     1000   \n",
       "508    26596.75       2     99.300205  Algo_Exit         -51.34     1000   \n",
       "509    26529.40       1    113.867725  Algo_Exit         -65.14     1000   \n",
       "510    26495.00       2    209.604243  Algo_Exit          36.51     1000   \n",
       "511    26613.85       1    321.310968  Algo_Exit         116.99     1000   \n",
       "512    26375.41       2    306.820976    SL_Exit         252.56     1000   \n",
       "513    27437.35       1    441.468633  Algo_Exit        1239.93     1000   \n",
       "514    27630.00       2    193.002829    SL_Exit        -191.07     1000   \n",
       "515    27507.21       1     745.58545  Algo_Exit          29.73     1000   \n",
       "516    26894.15       2     764.82306  Algo_Exit         581.86     1000   \n",
       "517    33543.48       1    111.642606  Algo_Exit         6658.3     1000   \n",
       "518    34365.99       2   1288.925177  Algo_Exit        -761.01     1000   \n",
       "519    34473.23       1    737.718546  Algo_Exit         109.23     1000   \n",
       "520    34842.09       2     312.90278    SL_Exit        -375.75     1000   \n",
       "521    34686.72       1   1847.896707  Algo_Exit        -611.38     1000   \n",
       "522    35107.81       2    438.536441    SL_Exit        -417.82     1000   \n",
       "523    34747.09       1    532.313805  Algo_Exit        -290.17     1000   \n",
       "524    35342.67       2    632.139971    SL_Exit        -562.66     1000   \n",
       "525    36987.48       1     382.98699  Algo_Exit        1613.94     1000   \n",
       "526    36652.01       2    360.366603    SL_Exit         331.97     1000   \n",
       "527    36414.00       1   1948.230712  Algo_Exit        -281.99     1000   \n",
       "528    36440.64       2    440.542509  Algo_Exit         -26.64     1000   \n",
       "529    36521.14       1    402.114092  Algo_Exit         123.34     1000   \n",
       "530    37144.64       2    642.479881    SL_Exit        -605.64     1000   \n",
       "531    37486.66       1     435.85287  Algo_Exit         117.54     1000   \n",
       "532    38063.56       2     509.07705    SL_Exit        -582.35     1000   \n",
       "533    43684.54       1     886.36793  Algo_Exit        5346.54     1000   \n",
       "534    44044.02       2   1355.491488  Algo_Exit         -284.0     1000   \n",
       "535    42155.79       1    724.058706  Algo_Exit       -1840.46     1000   \n",
       "536    41383.62       2   3554.153454    SL_Exit         777.87     1000   \n",
       "537    42451.49       1    842.753979  Algo_Exit        -451.09     1000   \n",
       "538    41655.99       2    740.654508    SL_Exit         782.58     1000   \n",
       "539    43794.81       1   1244.002741  Algo_Exit        1579.57     1000   \n",
       "540    43720.05       2    373.708635  Algo_Exit          71.05     1000   \n",
       "541    43335.12       2    507.684468    SL_Exit         387.16     1000   \n",
       "542    42042.34       1    986.919923  Algo_Exit        -532.96     1000   \n",
       "543         NaN       2    931.780742       None            NaN     1000   \n",
       "\n",
       "       #units profit_per_capital  tnc_cost profit_after_tnc cumulative_profit  \\\n",
       "494  0.038434          -6.817812         1        -7.817812       2870.981358   \n",
       "495  0.037833         -14.609942         1       -15.609942       2855.371416   \n",
       "496  0.038388           0.632255         1        -0.367745        2855.00367   \n",
       "497  0.038405          -3.766795         1        -4.766795       2850.236875   \n",
       "498  0.038546         -10.822095         1       -11.822095        2838.41478   \n",
       "499  0.038272          -4.570859         1        -5.570859       2832.843921   \n",
       "500  0.038442         -25.926608         1       -26.926608       2805.917313   \n",
       "501  0.036520         -47.593605         1       -48.593605       2757.323708   \n",
       "502  0.038332           8.791082         1         7.791082       2765.114791   \n",
       "503  0.038589          -5.380784         1        -6.380784       2758.734007   \n",
       "504  0.038803         -10.050448         1       -11.050448       2747.683559   \n",
       "505  0.038163         -12.941738         1       -13.941738       2733.741821   \n",
       "506  0.038663          -6.146658         1        -7.146658       2726.595162   \n",
       "507  0.038256          15.509175         1        14.509175       2741.104338   \n",
       "508  0.037671          -1.934044         1        -2.934044       2738.170293   \n",
       "509  0.037602          -2.449375         1        -3.449375       2734.720918   \n",
       "510  0.037691             1.3761         1           0.3761       2735.097018   \n",
       "511  0.037740            4.41524         1          3.41524       2738.512258   \n",
       "512  0.037554           9.484764         1         8.484764       2746.997022   \n",
       "513  0.038172          47.330233         1        46.330233       2793.327255   \n",
       "514  0.036445          -6.963464         1        -7.963464       2785.363791   \n",
       "515  0.036393           1.081977         1         0.081977       2785.445768   \n",
       "516  0.036395           21.17702         1         20.17702       2805.622787   \n",
       "517  0.037195         247.656888         1       246.656888       3052.279675   \n",
       "518  0.029757         -22.645751         1       -23.645751       3028.633924   \n",
       "519  0.029100           3.178617         1         2.178617       3030.812541   \n",
       "520  0.029014         -10.901941         1       -11.901941         3018.9106   \n",
       "521  0.028330         -17.320479         1       -18.320479       3000.590121   \n",
       "522  0.028827         -12.044397         1       -13.044397       2987.545725   \n",
       "523  0.028541          -8.281755         1        -9.281755        2978.26397   \n",
       "524  0.028752         -16.177684         1       -17.177684       2961.086286   \n",
       "525  0.028270          45.625629         1        44.625629       3005.711915   \n",
       "526  0.027039           8.976049         1         7.976049       3013.687963   \n",
       "527  0.027251          -7.684491         1        -8.684491       3005.003473   \n",
       "528  0.027462          -0.731587         1        -1.731587       3003.271886   \n",
       "529  0.027474           3.388666         1         2.388666       3005.660552   \n",
       "530  0.027368         -16.575166         1       -17.575166       2988.085386   \n",
       "531  0.026760           3.145378         1         2.145378       2990.230764   \n",
       "532  0.026680         -15.537118         1       -16.537118       2973.693645   \n",
       "533  0.026084         139.457979         1       138.457979       3112.151624   \n",
       "534  0.022852          -6.489942         1        -7.489942       3104.661682   \n",
       "535  0.022729         -41.832202         1       -42.832202        3061.82948   \n",
       "536  0.023718          18.449775         1        17.449775       3079.279255   \n",
       "537  0.023309         -10.514286         1       -11.514286       3067.764969   \n",
       "538  0.023563          18.440301         1        17.440301        3085.20527   \n",
       "539  0.023688          37.417056         1        36.417056       3121.622326   \n",
       "540  0.022836           1.622476         1         0.622476       3122.244802   \n",
       "541  0.022872           8.854982         1         7.854982       3130.099784   \n",
       "542  0.023488         -12.518056         1       -13.518056       3116.581728   \n",
       "543  0.023762                NaN         1              NaN               NaN   \n",
       "\n",
       "         roe_%  \n",
       "494  -0.781781  \n",
       "495  -1.560994  \n",
       "496  -0.036775  \n",
       "497   -0.47668  \n",
       "498   -1.18221  \n",
       "499  -0.557086  \n",
       "500  -2.692661  \n",
       "501  -4.859361  \n",
       "502   0.779108  \n",
       "503  -0.638078  \n",
       "504  -1.105045  \n",
       "505  -1.394174  \n",
       "506  -0.714666  \n",
       "507   1.450918  \n",
       "508  -0.293404  \n",
       "509  -0.344937  \n",
       "510    0.03761  \n",
       "511   0.341524  \n",
       "512   0.848476  \n",
       "513   4.633023  \n",
       "514  -0.796346  \n",
       "515   0.008198  \n",
       "516   2.017702  \n",
       "517  24.665689  \n",
       "518  -2.364575  \n",
       "519   0.217862  \n",
       "520  -1.190194  \n",
       "521  -1.832048  \n",
       "522   -1.30444  \n",
       "523  -0.928175  \n",
       "524  -1.717768  \n",
       "525   4.462563  \n",
       "526   0.797605  \n",
       "527  -0.868449  \n",
       "528  -0.173159  \n",
       "529   0.238867  \n",
       "530  -1.757517  \n",
       "531   0.214538  \n",
       "532  -1.653712  \n",
       "533  13.845798  \n",
       "534  -0.748994  \n",
       "535   -4.28322  \n",
       "536   1.744977  \n",
       "537  -1.151429  \n",
       "538    1.74403  \n",
       "539   3.641706  \n",
       "540   0.062248  \n",
       "541   0.785498  \n",
       "542  -1.351806  \n",
       "543        NaN  "
      ]
     },
     "execution_count": 184,
     "metadata": {},
     "output_type": "execute_result"
    }
   ],
   "source": [
    "obj.tail(50)"
   ]
  },
  {
   "cell_type": "code",
   "execution_count": null,
   "id": "e261b9dc-6a6b-4c14-a6b4-2cd6b5d6bf5c",
   "metadata": {},
   "outputs": [],
   "source": []
  }
 ],
 "metadata": {
  "kernelspec": {
   "display_name": "Python 3 (ipykernel)",
   "language": "python",
   "name": "python3"
  },
  "language_info": {
   "codemirror_mode": {
    "name": "ipython",
    "version": 3
   },
   "file_extension": ".py",
   "mimetype": "text/x-python",
   "name": "python",
   "nbconvert_exporter": "python",
   "pygments_lexer": "ipython3",
   "version": "3.11.7"
  }
 },
 "nbformat": 4,
 "nbformat_minor": 5
}
